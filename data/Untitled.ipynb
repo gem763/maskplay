{
 "cells": [
  {
   "cell_type": "code",
   "execution_count": 1,
   "metadata": {},
   "outputs": [],
   "source": [
    "%load_ext autoreload\n",
    "%autoreload\n",
    "\n",
    "import os\n",
    "import sys\n",
    "import random\n",
    "import django\n",
    "from IPython.core.debugger import set_trace\n",
    "from pathlib import Path\n",
    "from django.core.files.base import ContentFile\n",
    "from rest_framework import serializers\n",
    "from datetime import datetime\n",
    "import time\n",
    "from tqdm import tqdm_notebook\n",
    "\n",
    "parentdir = os.path.abspath(os.path.join(os.getcwd(), os.pardir))\n",
    "sys.path.append(parentdir)\n",
    "django.setup()\n",
    "\n",
    "import getch.models as m\n",
    "from django.apps import apps\n",
    "from django_currentuser.middleware import get_current_user"
   ]
  },
  {
   "cell_type": "code",
   "execution_count": 10,
   "metadata": {},
   "outputs": [
    {
     "data": {
      "text/plain": [
       "<QuerySet [<Pix: #니트 #그레이 #무채색 #남친룩 #데일리룩>, <Pix: 모디파이드 #modified #셔츠 #자켓 #코트 #팬츠 #코튼 #미니멀 #심플 #데님>, <Pix: 모디파이드 #modified #셔츠 #자켓 #코트 #팬츠 #코튼 #미니멀 #심플 #데님>, <Pix: #패딩 #숏패딩 #아우터>, <Pix: 모디파이드 #modified #셔츠 #자켓 #코트 #팬츠 #코튼 #미니멀 #심플 #데님>, <Pix: 모디파이드 #modified #셔츠 #자켓 #코트 #팬츠 #코튼 #미니멀 #심플 #데님>, <Pix: 모디파이드 #modified #셔츠 #자켓 #코트 #팬츠 #코튼 #미니멀 #심플 #데님>, <Pix: 모디파이드 #modified #셔츠 #자켓 #코트 #팬츠 #코튼 #미니멀 #심플 #데님>, <Pix: 모디파이드 #modified #셔츠 #자켓 #코트 #팬츠 #코튼 #미니멀 #심플 #데님>, <Pix: #므넴 #니트 #스트라이프 #와이드팬츠 #가죽 #레더 #스니커즈>, <Pix: 아이사피 #i4p #티셔츠 #블랙 #블루 #팬츠 #롱슬리브 #스니커즈>, <Pix: #므넴 #셔츠 #스트링 #와이드팬츠>, <Pix: #므넴 #셔츠 #남방 #아우터 #자켓 #와이드팬츠>, <Pix: #므넴 #카라티 #긴팔티 #와이드팬츠 #슬랙스 #스니커즈>, <Pix: #므넴 #셔츠 #스트링 #와이드팬츠 #체크>, <Pix: 아이사피 #i4p #셔츠 #코튼 #화이트 #팬츠 #스니커즈>, <Pix: 엘엠씨 #lmc #lostmanagementcities #백 #가방 #백팩 #메신저백 #스몰백 #후드 #티셔츠 #맨투맨 #카키 #레드 #블랙>, <Pix: 아이사피 #i4p #자켓 #블랙 #팬츠 #패턴 #체크무늬>, <Pix: 아이사피 #i4p #후드자켓 #블랙 #팬츠 #키코 #사이드백 #브리프케이스 #투웨이>, <Pix: 아이사피 #i4p #후드 #목도리 #블랙 #팬츠 #패턴 #체크무늬 #스니커즈>, '...(remaining elements truncated)...']>"
      ]
     },
     "execution_count": 10,
     "metadata": {},
     "output_type": "execute_result"
    }
   ],
   "source": [
    "m.Pix.objects.filter(type='M')#.first().owner.nick"
   ]
  },
  {
   "cell_type": "code",
   "execution_count": 13,
   "metadata": {},
   "outputs": [
    {
     "data": {
      "text/plain": [
       "'giseok1929'"
      ]
     },
     "execution_count": 13,
     "metadata": {},
     "output_type": "execute_result"
    }
   ],
   "source": [
    "m.Boo.objects.filter(user__email='giseok1929@daum.net').first().nick"
   ]
  },
  {
   "cell_type": "code",
   "execution_count": null,
   "metadata": {},
   "outputs": [],
   "source": []
  }
 ],
 "metadata": {
  "kernelspec": {
   "display_name": "Python 3",
   "language": "python",
   "name": "python3"
  },
  "language_info": {
   "codemirror_mode": {
    "name": "ipython",
    "version": 3
   },
   "file_extension": ".py",
   "mimetype": "text/x-python",
   "name": "python",
   "nbconvert_exporter": "python",
   "pygments_lexer": "ipython3",
   "version": "3.8.2"
  }
 },
 "nbformat": 4,
 "nbformat_minor": 4
}
