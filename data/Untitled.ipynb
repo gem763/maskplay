{
 "cells": [
  {
   "cell_type": "code",
   "execution_count": 61,
   "metadata": {},
   "outputs": [
    {
     "name": "stdout",
     "output_type": "stream",
     "text": [
      "The autoreload extension is already loaded. To reload it, use:\n",
      "  %reload_ext autoreload\n"
     ]
    }
   ],
   "source": [
    "%load_ext autoreload\n",
    "%autoreload\n",
    "\n",
    "import os\n",
    "import sys\n",
    "import random\n",
    "import django\n",
    "from IPython.core.debugger import set_trace\n",
    "from pathlib import Path\n",
    "from django.core.files.base import ContentFile\n",
    "from rest_framework import serializers\n",
    "from datetime import datetime\n",
    "import time\n",
    "from collections import Counter\n",
    "import pandas as pd\n",
    "import numpy as np\n",
    "import random\n",
    "from tqdm import tqdm_notebook\n",
    "\n",
    "parentdir = os.path.abspath(os.path.join(os.getcwd(), os.pardir))\n",
    "sys.path.append(parentdir)\n",
    "django.setup()\n",
    "\n",
    "import getch.models as m\n",
    "from django.apps import apps\n",
    "from django_currentuser.middleware import get_current_user\n",
    "from django.db.models import F, Q, Sum, Count, Case, When, IntegerField, Value"
   ]
  },
  {
   "cell_type": "code",
   "execution_count": 55,
   "metadata": {},
   "outputs": [
    {
     "name": "stdout",
     "output_type": "stream",
     "text": [
      "CPU times: user 4.09 ms, sys: 1.14 ms, total: 5.23 ms\n",
      "Wall time: 206 ms\n"
     ]
    },
    {
     "data": {
      "text/plain": [
       "[1195, 2068]"
      ]
     },
     "execution_count": 55,
     "metadata": {},
     "output_type": "execute_result"
    }
   ],
   "source": [
    "%%time\n",
    "tags = m.Tag.objects.all()\n",
    "random.sample(list(tags.values_list('id', flat=True)), 2)"
   ]
  },
  {
   "cell_type": "code",
   "execution_count": 58,
   "metadata": {},
   "outputs": [
    {
     "name": "stdout",
     "output_type": "stream",
     "text": [
      "CPU times: user 121 µs, sys: 0 ns, total: 121 µs\n",
      "Wall time: 124 µs\n"
     ]
    },
    {
     "data": {
      "text/plain": [
       "<QuerySet [8103, 4176]>"
      ]
     },
     "execution_count": 58,
     "metadata": {},
     "output_type": "execute_result"
    }
   ],
   "source": [
    "%%time\n",
    "m.Tag.objects.order_by('?')[:2].values_list('id', flat=True)"
   ]
  },
  {
   "cell_type": "code",
   "execution_count": 54,
   "metadata": {},
   "outputs": [
    {
     "name": "stdout",
     "output_type": "stream",
     "text": [
      "CPU times: user 2.73 ms, sys: 806 µs, total: 3.53 ms\n",
      "Wall time: 525 ms\n"
     ]
    },
    {
     "data": {
      "text/plain": [
       "(<Tag: [167] clothing | 팬츠 | 와이드팬츠>, <Tag: [4231] clothing | 스커트 | 스커트>)"
      ]
     },
     "execution_count": 54,
     "metadata": {},
     "output_type": "execute_result"
    }
   ],
   "source": [
    "%%time\n",
    "tags = m.Tag.objects.all()\n",
    "samples = random.sample(range(0, tags.count()), 2)\n",
    "tags[samples[0]], tags[samples[1]]"
   ]
  },
  {
   "cell_type": "code",
   "execution_count": null,
   "metadata": {},
   "outputs": [],
   "source": []
  },
  {
   "cell_type": "code",
   "execution_count": null,
   "metadata": {},
   "outputs": [],
   "source": []
  },
  {
   "cell_type": "code",
   "execution_count": null,
   "metadata": {},
   "outputs": [],
   "source": []
  },
  {
   "cell_type": "code",
   "execution_count": null,
   "metadata": {},
   "outputs": [],
   "source": []
  },
  {
   "cell_type": "code",
   "execution_count": 34,
   "metadata": {},
   "outputs": [],
   "source": [
    "# type = models.CharField(max_length=20, null=False, blank=False)\n",
    "# category = models.CharField(max_length=20, null=False, blank=False)\n",
    "# item = models.CharField(max_length=20, null=False, blank=False)\n",
    "# color = models.CharField(max_length=20, null=True, blank=True)\n",
    "# detail = models.CharField(max_length=20, null=True, blank=True)\n",
    "# pattern = models.CharField(max_length=20, null=True, blank=True) # 옴니어스 원래의 속성은 print임\n",
    "# texture = models.CharField(max_length=20, null=True, blank=True)\n",
    "# look = models.CharField(max_length=20, null=True, blank=True)\n",
    "# length = models.CharField(max_length=20, null=True, blank=True)\n",
    "# sleeve_length = models.CharField(max_length=20, null=True, blank=True)\n",
    "# neckline = models.CharField(max_length=20, null=True, blank=True)\n",
    "# fit = models.CharField(max_length=20, null=True, blank=True)\n",
    "# shape = models.CharField(max_length=20, null=True, blank=True)\n",
    "# heel_height = models.CharField(max_length=20, null=True, blank=True)\n",
    "# heel_shape = models.CharField(max_length=20, null=True, blank=True)\n",
    "# toe_type = models.CharField(max_length=20, null=True, blank=True)\n",
    "# sole_type = models.CharField(max_length=20, null=True, blank=True)\n",
    "\n",
    "# strap = models.BooleanField(default=False)\n",
    "# size = models.CharField(max_length=20, null=True, blank=True)\n",
    "# main_material = models.CharField(max_length=20, null=True, blank=True)\n",
    "# sub_material = models.CharField(max_length=20, null=True, blank=True)"
   ]
  },
  {
   "cell_type": "code",
   "execution_count": null,
   "metadata": {},
   "outputs": [],
   "source": []
  },
  {
   "cell_type": "code",
   "execution_count": 97,
   "metadata": {},
   "outputs": [],
   "source": [
    "univ = [\n",
    "    [10, {'type':'clothing', 'category':'캐주얼상의'}],\n",
    "    [10, {'type':'clothing', 'category':'팬츠'}],\n",
    "    [10, {'type':'clothing', 'category':'재킷'}],\n",
    "    [10, {'type':'clothing', 'category':'니트웨어'}],\n",
    "    [10, {'type':'clothing', 'category':'청바지'}],\n",
    "    [10, {'type':'clothing', 'category':'스커트'}],\n",
    "    [10, {'type':'clothing', 'category':'셔츠'}],\n",
    "    [10, {'type':'clothing', 'category':'점퍼'}],\n",
    "    [10, {'type':'clothing', 'category':'코트'}],\n",
    "    [10, {'type':'clothing', 'category':'드레스'}],\n",
    "    [10, {'type':'clothing', 'category':'블라우스'}],\n",
    "    [10, {'type':'clothing', 'category':'탑'}],\n",
    "    [10, {'type':'clothing', 'category':'패딩'}],\n",
    "    [10, {'type':'clothing', 'category':'베스트'}],\n",
    "    [10, {'type':'clothing', 'category':'점프수트'}],\n",
    "    [10, {'type':'clothing', 'category':'수영복'}],\n",
    "    \n",
    "    [7, {'type':'shoes'}],\n",
    "    [7, {'type':'shoes', 'category':'운동화'}],\n",
    "    [7, {'type':'shoes', 'category':'부츠/워커'}],\n",
    "    [7, {'type':'shoes', 'category':'로퍼'}],\n",
    "    [7, {'type':'shoes', 'category':'슬리퍼'}],\n",
    "    [7, {'type':'shoes', 'category':'펌프스'}],\n",
    "    [7, {'type':'shoes', 'category':'정장구두'}],\n",
    "    [7, {'type':'shoes', 'category':'샌들'}],\n",
    "    \n",
    "    [5, {'type':'bags', 'category':'가방'}],\n",
    "    [1, {'type':'bags', 'category':'지갑'}],\n",
    "    \n",
    "    [1, {'type':'accessories', 'category':'잡화', 'item':'선글라스'}],\n",
    "    [1, {'type':'accessories', 'category':'잡화', 'item':'벨트'}],\n",
    "    [1, {'type':'accessories', 'category':'잡화', 'item':'안경'}],\n",
    "    [1, {'type':'accessories', 'category':'잡화', 'item':'손목시계'}],\n",
    "    [1, {'type':'accessories', 'category':'잡화', 'item':'머플러'}],\n",
    "    [1, {'type':'accessories', 'category':'잡화', 'item':'헤어밴드'}],\n",
    "    [1, {'type':'accessories', 'category':'잡화', 'item':'스카프'}],\n",
    "    [1, {'type':'accessories', 'category':'잡화', 'item':'양말'}],\n",
    "    [1, {'type':'accessories', 'category':'잡화', 'item':'헤어악세서리'}],\n",
    "#     {'type':'accessories', 'category':'잡화', 'item':'고글'},\n",
    "#     {'type':'accessories', 'category':'잡화', 'item':'넥워머'},\n",
    "#     {'type':'accessories', 'category':'잡화', 'item':'넥타이'},\n",
    "#     {'type':'accessories', 'category':'잡화', 'item':'타이츠스타킹'},\n",
    "#     {'type':'accessories', 'category':'잡화', 'item':'암워머'},\n",
    "    \n",
    "    [1, {'type':'jewelries'}],\n",
    "    [1, {'type':'jewelries', 'category':'목걸이'}],\n",
    "    [1, {'type':'jewelries', 'category':'팔찌/발찌'}],\n",
    "    [1, {'type':'jewelries', 'category':'귀걸이/피어싱'}],\n",
    "    [1, {'type':'jewelries', 'category':'반지'}],\n",
    "#     {'type':'jewelries', 'category':'펜던트'},\n",
    "    \n",
    "    [3, {'type':'hats', 'category':'모자'}],\n",
    "]\n"
   ]
  },
  {
   "cell_type": "code",
   "execution_count": 98,
   "metadata": {
    "scrolled": true
   },
   "outputs": [
    {
     "data": {
      "text/html": [
       "<div>\n",
       "<style scoped>\n",
       "    .dataframe tbody tr th:only-of-type {\n",
       "        vertical-align: middle;\n",
       "    }\n",
       "\n",
       "    .dataframe tbody tr th {\n",
       "        vertical-align: top;\n",
       "    }\n",
       "\n",
       "    .dataframe thead th {\n",
       "        text-align: right;\n",
       "    }\n",
       "</style>\n",
       "<table border=\"1\" class=\"dataframe\">\n",
       "  <thead>\n",
       "    <tr style=\"text-align: right;\">\n",
       "      <th></th>\n",
       "      <th>0</th>\n",
       "      <th>1</th>\n",
       "    </tr>\n",
       "  </thead>\n",
       "  <tbody>\n",
       "    <tr>\n",
       "      <th>0</th>\n",
       "      <td>10</td>\n",
       "      <td>{'type': 'clothing', 'category': '캐주얼상의'}</td>\n",
       "    </tr>\n",
       "    <tr>\n",
       "      <th>1</th>\n",
       "      <td>10</td>\n",
       "      <td>{'type': 'clothing', 'category': '팬츠'}</td>\n",
       "    </tr>\n",
       "    <tr>\n",
       "      <th>2</th>\n",
       "      <td>10</td>\n",
       "      <td>{'type': 'clothing', 'category': '재킷'}</td>\n",
       "    </tr>\n",
       "    <tr>\n",
       "      <th>3</th>\n",
       "      <td>10</td>\n",
       "      <td>{'type': 'clothing', 'category': '니트웨어'}</td>\n",
       "    </tr>\n",
       "    <tr>\n",
       "      <th>4</th>\n",
       "      <td>10</td>\n",
       "      <td>{'type': 'clothing', 'category': '청바지'}</td>\n",
       "    </tr>\n",
       "    <tr>\n",
       "      <th>5</th>\n",
       "      <td>10</td>\n",
       "      <td>{'type': 'clothing', 'category': '스커트'}</td>\n",
       "    </tr>\n",
       "    <tr>\n",
       "      <th>6</th>\n",
       "      <td>10</td>\n",
       "      <td>{'type': 'clothing', 'category': '셔츠'}</td>\n",
       "    </tr>\n",
       "    <tr>\n",
       "      <th>7</th>\n",
       "      <td>10</td>\n",
       "      <td>{'type': 'clothing', 'category': '점퍼'}</td>\n",
       "    </tr>\n",
       "    <tr>\n",
       "      <th>8</th>\n",
       "      <td>10</td>\n",
       "      <td>{'type': 'clothing', 'category': '코트'}</td>\n",
       "    </tr>\n",
       "    <tr>\n",
       "      <th>9</th>\n",
       "      <td>10</td>\n",
       "      <td>{'type': 'clothing', 'category': '드레스'}</td>\n",
       "    </tr>\n",
       "    <tr>\n",
       "      <th>10</th>\n",
       "      <td>10</td>\n",
       "      <td>{'type': 'clothing', 'category': '블라우스'}</td>\n",
       "    </tr>\n",
       "    <tr>\n",
       "      <th>11</th>\n",
       "      <td>10</td>\n",
       "      <td>{'type': 'clothing', 'category': '탑'}</td>\n",
       "    </tr>\n",
       "    <tr>\n",
       "      <th>12</th>\n",
       "      <td>10</td>\n",
       "      <td>{'type': 'clothing', 'category': '패딩'}</td>\n",
       "    </tr>\n",
       "    <tr>\n",
       "      <th>13</th>\n",
       "      <td>10</td>\n",
       "      <td>{'type': 'clothing', 'category': '베스트'}</td>\n",
       "    </tr>\n",
       "    <tr>\n",
       "      <th>14</th>\n",
       "      <td>10</td>\n",
       "      <td>{'type': 'clothing', 'category': '점프수트'}</td>\n",
       "    </tr>\n",
       "    <tr>\n",
       "      <th>15</th>\n",
       "      <td>10</td>\n",
       "      <td>{'type': 'clothing', 'category': '수영복'}</td>\n",
       "    </tr>\n",
       "    <tr>\n",
       "      <th>16</th>\n",
       "      <td>7</td>\n",
       "      <td>{'type': 'shoes'}</td>\n",
       "    </tr>\n",
       "    <tr>\n",
       "      <th>17</th>\n",
       "      <td>7</td>\n",
       "      <td>{'type': 'shoes', 'category': '운동화'}</td>\n",
       "    </tr>\n",
       "    <tr>\n",
       "      <th>18</th>\n",
       "      <td>7</td>\n",
       "      <td>{'type': 'shoes', 'category': '부츠/워커'}</td>\n",
       "    </tr>\n",
       "    <tr>\n",
       "      <th>19</th>\n",
       "      <td>7</td>\n",
       "      <td>{'type': 'shoes', 'category': '로퍼'}</td>\n",
       "    </tr>\n",
       "    <tr>\n",
       "      <th>20</th>\n",
       "      <td>7</td>\n",
       "      <td>{'type': 'shoes', 'category': '슬리퍼'}</td>\n",
       "    </tr>\n",
       "    <tr>\n",
       "      <th>21</th>\n",
       "      <td>7</td>\n",
       "      <td>{'type': 'shoes', 'category': '펌프스'}</td>\n",
       "    </tr>\n",
       "    <tr>\n",
       "      <th>22</th>\n",
       "      <td>7</td>\n",
       "      <td>{'type': 'shoes', 'category': '정장구두'}</td>\n",
       "    </tr>\n",
       "    <tr>\n",
       "      <th>23</th>\n",
       "      <td>7</td>\n",
       "      <td>{'type': 'shoes', 'category': '샌들'}</td>\n",
       "    </tr>\n",
       "    <tr>\n",
       "      <th>24</th>\n",
       "      <td>5</td>\n",
       "      <td>{'type': 'bags', 'category': '가방'}</td>\n",
       "    </tr>\n",
       "    <tr>\n",
       "      <th>25</th>\n",
       "      <td>1</td>\n",
       "      <td>{'type': 'bags', 'category': '지갑'}</td>\n",
       "    </tr>\n",
       "    <tr>\n",
       "      <th>26</th>\n",
       "      <td>1</td>\n",
       "      <td>{'type': 'accessories', 'category': '잡화', 'ite...</td>\n",
       "    </tr>\n",
       "    <tr>\n",
       "      <th>27</th>\n",
       "      <td>1</td>\n",
       "      <td>{'type': 'accessories', 'category': '잡화', 'ite...</td>\n",
       "    </tr>\n",
       "    <tr>\n",
       "      <th>28</th>\n",
       "      <td>1</td>\n",
       "      <td>{'type': 'accessories', 'category': '잡화', 'ite...</td>\n",
       "    </tr>\n",
       "    <tr>\n",
       "      <th>29</th>\n",
       "      <td>1</td>\n",
       "      <td>{'type': 'accessories', 'category': '잡화', 'ite...</td>\n",
       "    </tr>\n",
       "    <tr>\n",
       "      <th>30</th>\n",
       "      <td>1</td>\n",
       "      <td>{'type': 'accessories', 'category': '잡화', 'ite...</td>\n",
       "    </tr>\n",
       "    <tr>\n",
       "      <th>31</th>\n",
       "      <td>1</td>\n",
       "      <td>{'type': 'accessories', 'category': '잡화', 'ite...</td>\n",
       "    </tr>\n",
       "    <tr>\n",
       "      <th>32</th>\n",
       "      <td>1</td>\n",
       "      <td>{'type': 'accessories', 'category': '잡화', 'ite...</td>\n",
       "    </tr>\n",
       "    <tr>\n",
       "      <th>33</th>\n",
       "      <td>1</td>\n",
       "      <td>{'type': 'accessories', 'category': '잡화', 'ite...</td>\n",
       "    </tr>\n",
       "    <tr>\n",
       "      <th>34</th>\n",
       "      <td>1</td>\n",
       "      <td>{'type': 'accessories', 'category': '잡화', 'ite...</td>\n",
       "    </tr>\n",
       "    <tr>\n",
       "      <th>35</th>\n",
       "      <td>1</td>\n",
       "      <td>{'type': 'jewelries'}</td>\n",
       "    </tr>\n",
       "    <tr>\n",
       "      <th>36</th>\n",
       "      <td>1</td>\n",
       "      <td>{'type': 'jewelries', 'category': '목걸이'}</td>\n",
       "    </tr>\n",
       "    <tr>\n",
       "      <th>37</th>\n",
       "      <td>1</td>\n",
       "      <td>{'type': 'jewelries', 'category': '팔찌/발찌'}</td>\n",
       "    </tr>\n",
       "    <tr>\n",
       "      <th>38</th>\n",
       "      <td>1</td>\n",
       "      <td>{'type': 'jewelries', 'category': '귀걸이/피어싱'}</td>\n",
       "    </tr>\n",
       "    <tr>\n",
       "      <th>39</th>\n",
       "      <td>1</td>\n",
       "      <td>{'type': 'jewelries', 'category': '반지'}</td>\n",
       "    </tr>\n",
       "    <tr>\n",
       "      <th>40</th>\n",
       "      <td>3</td>\n",
       "      <td>{'type': 'hats', 'category': '모자'}</td>\n",
       "    </tr>\n",
       "  </tbody>\n",
       "</table>\n",
       "</div>"
      ],
      "text/plain": [
       "     0                                                  1\n",
       "0   10          {'type': 'clothing', 'category': '캐주얼상의'}\n",
       "1   10             {'type': 'clothing', 'category': '팬츠'}\n",
       "2   10             {'type': 'clothing', 'category': '재킷'}\n",
       "3   10           {'type': 'clothing', 'category': '니트웨어'}\n",
       "4   10            {'type': 'clothing', 'category': '청바지'}\n",
       "5   10            {'type': 'clothing', 'category': '스커트'}\n",
       "6   10             {'type': 'clothing', 'category': '셔츠'}\n",
       "7   10             {'type': 'clothing', 'category': '점퍼'}\n",
       "8   10             {'type': 'clothing', 'category': '코트'}\n",
       "9   10            {'type': 'clothing', 'category': '드레스'}\n",
       "10  10           {'type': 'clothing', 'category': '블라우스'}\n",
       "11  10              {'type': 'clothing', 'category': '탑'}\n",
       "12  10             {'type': 'clothing', 'category': '패딩'}\n",
       "13  10            {'type': 'clothing', 'category': '베스트'}\n",
       "14  10           {'type': 'clothing', 'category': '점프수트'}\n",
       "15  10            {'type': 'clothing', 'category': '수영복'}\n",
       "16   7                                  {'type': 'shoes'}\n",
       "17   7               {'type': 'shoes', 'category': '운동화'}\n",
       "18   7             {'type': 'shoes', 'category': '부츠/워커'}\n",
       "19   7                {'type': 'shoes', 'category': '로퍼'}\n",
       "20   7               {'type': 'shoes', 'category': '슬리퍼'}\n",
       "21   7               {'type': 'shoes', 'category': '펌프스'}\n",
       "22   7              {'type': 'shoes', 'category': '정장구두'}\n",
       "23   7                {'type': 'shoes', 'category': '샌들'}\n",
       "24   5                 {'type': 'bags', 'category': '가방'}\n",
       "25   1                 {'type': 'bags', 'category': '지갑'}\n",
       "26   1  {'type': 'accessories', 'category': '잡화', 'ite...\n",
       "27   1  {'type': 'accessories', 'category': '잡화', 'ite...\n",
       "28   1  {'type': 'accessories', 'category': '잡화', 'ite...\n",
       "29   1  {'type': 'accessories', 'category': '잡화', 'ite...\n",
       "30   1  {'type': 'accessories', 'category': '잡화', 'ite...\n",
       "31   1  {'type': 'accessories', 'category': '잡화', 'ite...\n",
       "32   1  {'type': 'accessories', 'category': '잡화', 'ite...\n",
       "33   1  {'type': 'accessories', 'category': '잡화', 'ite...\n",
       "34   1  {'type': 'accessories', 'category': '잡화', 'ite...\n",
       "35   1                              {'type': 'jewelries'}\n",
       "36   1           {'type': 'jewelries', 'category': '목걸이'}\n",
       "37   1         {'type': 'jewelries', 'category': '팔찌/발찌'}\n",
       "38   1       {'type': 'jewelries', 'category': '귀걸이/피어싱'}\n",
       "39   1            {'type': 'jewelries', 'category': '반지'}\n",
       "40   3                 {'type': 'hats', 'category': '모자'}"
      ]
     },
     "execution_count": 98,
     "metadata": {},
     "output_type": "execute_result"
    }
   ],
   "source": [
    "df_choice = pd.DataFrame(univ); df_choice"
   ]
  },
  {
   "cell_type": "code",
   "execution_count": 103,
   "metadata": {},
   "outputs": [
    {
     "data": {
      "text/plain": [
       "[{'type': 'clothing', 'category': '블라우스'}]"
      ]
     },
     "execution_count": 103,
     "metadata": {},
     "output_type": "execute_result"
    }
   ],
   "source": [
    "random.choices(df_choice[1], weights=df_choice[0])"
   ]
  },
  {
   "cell_type": "code",
   "execution_count": 105,
   "metadata": {},
   "outputs": [
    {
     "data": {
      "text/plain": [
       "<QuerySet [<Tag: [4412] clothing | 팬츠 | 스웨트팬츠>, <Tag: [4411] clothing | 팬츠 | 슬랙스>, <Tag: [4410] clothing | 팬츠 | 스웨트팬츠>, <Tag: [4404] clothing | 팬츠 | 슬랙스>, <Tag: [4401] clothing | 팬츠 | 와이드팬츠>, <Tag: [4400] clothing | 팬츠 | 와이드팬츠>, <Tag: [4398] clothing | 팬츠 | 슬랙스>, <Tag: [4387] clothing | 팬츠 | 슬랙스>, <Tag: [4376] clothing | 팬츠 | 카고팬츠>, <Tag: [4375] clothing | 팬츠 | 치노팬츠>, <Tag: [4374] clothing | 팬츠 | 슬랙스>, <Tag: [4358] clothing | 팬츠 | 스웨트팬츠>, <Tag: [4353] clothing | 팬츠 | 슬랙스>, <Tag: [4351] clothing | 팬츠 | 와이드팬츠>, <Tag: [4350] clothing | 팬츠 | 치노팬츠>, <Tag: [4349] clothing | 팬츠 | 스웨트팬츠>, <Tag: [4347] clothing | 팬츠 | 슬랙스>, <Tag: [4345] clothing | 팬츠 | 슬랙스>, <Tag: [4341] clothing | 팬츠 | 와이드팬츠>, <Tag: [4341] clothing | 팬츠 | 슬랙스>, '...(remaining elements truncated)...']>"
      ]
     },
     "execution_count": 105,
     "metadata": {},
     "output_type": "execute_result"
    }
   ],
   "source": [
    "m.Tag.objects.filter(**random.choices(df_choice[1], weights=df_choice[0])[0])"
   ]
  },
  {
   "cell_type": "code",
   "execution_count": null,
   "metadata": {},
   "outputs": [],
   "source": []
  }
 ],
 "metadata": {
  "kernelspec": {
   "display_name": "Python 3",
   "language": "python",
   "name": "python3"
  },
  "language_info": {
   "codemirror_mode": {
    "name": "ipython",
    "version": 3
   },
   "file_extension": ".py",
   "mimetype": "text/x-python",
   "name": "python",
   "nbconvert_exporter": "python",
   "pygments_lexer": "ipython3",
   "version": "3.8.2"
  }
 },
 "nbformat": 4,
 "nbformat_minor": 4
}
