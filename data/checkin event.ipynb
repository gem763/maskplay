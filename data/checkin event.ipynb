{
 "cells": [
  {
   "cell_type": "code",
   "execution_count": 1,
   "metadata": {},
   "outputs": [],
   "source": [
    "%load_ext autoreload\n",
    "%autoreload\n",
    "\n",
    "import io\n",
    "import os\n",
    "import sys\n",
    "import django\n",
    "import glob\n",
    "import json\n",
    "import re\n",
    "import requests\n",
    "from IPython.core.debugger import set_trace\n",
    "from pathlib import Path\n",
    "from django.core.files.base import ContentFile\n",
    "from rest_framework import serializers\n",
    "from tqdm.notebook import tqdm\n",
    "from google.cloud import vision\n",
    "from google.cloud import storage\n",
    "from PIL import Image, ImageSequence\n",
    "from gensim.models import Doc2Vec\n",
    "from IPython.core.debugger import set_trace\n",
    "import IPython\n",
    "import collections\n",
    "from googletrans import Translator\n",
    "from google.cloud import translate_v2 as translate\n",
    "\n",
    "parentdir = os.path.abspath(os.path.join(os.getcwd(), os.pardir))\n",
    "sys.path.append(parentdir)\n",
    "django.setup()\n",
    "\n",
    "import getch.models as m\n",
    "from django.db.models import Q\n",
    "from django.apps import apps\n",
    "from django_currentuser.middleware import get_current_user\n",
    "from datetime import datetime, timedelta"
   ]
  },
  {
   "cell_type": "code",
   "execution_count": 2,
   "metadata": {},
   "outputs": [],
   "source": [
    "boo = m.Boo.objects.get(pk=355)"
   ]
  },
  {
   "cell_type": "code",
   "execution_count": 20,
   "metadata": {
    "scrolled": true
   },
   "outputs": [
    {
     "data": {
      "text/plain": [
       "<QuerySet [<Reward: 2021-06-15 몹미까 | quantlab@kakao.com>, <Reward: 2021-06-17 몹미까 | quantlab@kakao.com>, <Reward: 2021-06-18 몹미까 | quantlab@kakao.com>, <Reward: 2021-06-19 몹미까 | quantlab@kakao.com>, <Reward: 2021-06-20 몹미까 | quantlab@kakao.com>, <Reward: 2021-06-21 몹미까 | quantlab@kakao.com>, <Reward: 2021-06-22 몹미까 | quantlab@kakao.com>]>"
      ]
     },
     "execution_count": 20,
     "metadata": {},
     "output_type": "execute_result"
    }
   ],
   "source": [
    "rewards = boo.reward_set.all(); rewards"
   ]
  },
  {
   "cell_type": "code",
   "execution_count": 40,
   "metadata": {},
   "outputs": [
    {
     "data": {
      "text/plain": [
       "datetime.date(2021, 6, 15)"
      ]
     },
     "execution_count": 40,
     "metadata": {},
     "output_type": "execute_result"
    }
   ],
   "source": [
    "date_begin = rewards.earliest('date').date; date_begin\n",
    "# date_end = rewards.last().date"
   ]
  },
  {
   "cell_type": "code",
   "execution_count": 41,
   "metadata": {},
   "outputs": [
    {
     "data": {
      "text/plain": [
       "{0: {'date': '2021-06-15',\n",
       "  'is_today': False,\n",
       "  'n_action': 0,\n",
       "  'action_reward': 0,\n",
       "  'bonus_reward': 0},\n",
       " 2: {'date': '2021-06-17',\n",
       "  'is_today': False,\n",
       "  'n_action': 0,\n",
       "  'action_reward': 0,\n",
       "  'bonus_reward': 0},\n",
       " 3: {'date': '2021-06-18',\n",
       "  'is_today': False,\n",
       "  'n_action': 226,\n",
       "  'action_reward': 110,\n",
       "  'bonus_reward': 0},\n",
       " 4: {'date': '2021-06-19',\n",
       "  'is_today': False,\n",
       "  'n_action': 1,\n",
       "  'action_reward': 0,\n",
       "  'bonus_reward': 0},\n",
       " 5: {'date': '2021-06-20',\n",
       "  'is_today': False,\n",
       "  'n_action': 123,\n",
       "  'action_reward': 60,\n",
       "  'bonus_reward': 0},\n",
       " 6: {'date': '2021-06-21',\n",
       "  'is_today': False,\n",
       "  'n_action': 69,\n",
       "  'action_reward': 30,\n",
       "  'bonus_reward': 0},\n",
       " 7: {'date': '2021-06-22',\n",
       "  'is_today': True,\n",
       "  'n_action': 4,\n",
       "  'action_reward': 0,\n",
       "  'bonus_reward': 0}}"
      ]
     },
     "execution_count": 41,
     "metadata": {},
     "output_type": "execute_result"
    }
   ],
   "source": [
    "rewards_out = {}\n",
    "today = datetime.now().date()\n",
    "\n",
    "for _r in rewards:\n",
    "    k = (_r.date-date_begin).days\n",
    "    rewards_out[k] = {\n",
    "        'date': str(_r.date),\n",
    "        'is_today': _r.date == today,\n",
    "        'n_action': _r.n_collected + _r.n_voted,\n",
    "        'action_reward': _r.collect_reward + _r.vote_reward,\n",
    "        'bonus_reward': _r.bonus_reward\n",
    "    }\n",
    "\n",
    "rewards_out"
   ]
  },
  {
   "cell_type": "code",
   "execution_count": 1,
   "metadata": {},
   "outputs": [],
   "source": [
    "from datetime import datetime"
   ]
  },
  {
   "cell_type": "code",
   "execution_count": 6,
   "metadata": {},
   "outputs": [
    {
     "data": {
      "text/plain": [
       "datetime.date(2021, 7, 31)"
      ]
     },
     "execution_count": 6,
     "metadata": {},
     "output_type": "execute_result"
    }
   ],
   "source": [
    "datetime.now().date()"
   ]
  },
  {
   "cell_type": "code",
   "execution_count": 21,
   "metadata": {},
   "outputs": [
    {
     "data": {
      "text/plain": [
       "\"\\n  <img id='coverpix_preview' src='' style='display:none;height:100px;width:170px;object-fit:cover;' alt='test'>\\n    <script>\\n      function handleFileSelect(event) {\\n        var files = event.target.files;\\n        \\n        for (var i = 0, f; f = files[i]; i++) {\\n          if (!f.type.match('image.*')) continue;\\n          var reader = new FileReader();\\n          reader.onload = (function () {\\n            return function (e) {\\n              document.getElementById('coverpix_preview').src = e.target.result;\\n              document.getElementById('coverpix_preview').style.display = 'block';\\n            };\\n          })(f);\\n          reader.readAsDataURL(f);\\n        }\\n      }\\n      document.getElementById('id_coverpix').addEventListener('change', handleFileSelect, false);\\n    </script>\""
      ]
     },
     "execution_count": 21,
     "metadata": {},
     "output_type": "execute_result"
    }
   ],
   "source": [
    "tmp = '''\n",
    "  <img id='coverpix_preview' src='' style='display:none;height:100px;width:170px;object-fit:cover;' alt='{aa}'>\n",
    "    <script>\n",
    "      function handleFileSelect(event) {{\n",
    "        var files = event.target.files;\n",
    "        \n",
    "        for (var i = 0, f; f = files[i]; i++) {{\n",
    "          if (!f.type.match('image.*')) continue;\n",
    "          var reader = new FileReader();\n",
    "          reader.onload = (function () {{\n",
    "            return function (e) {{\n",
    "              document.getElementById('coverpix_preview').src = e.target.result;\n",
    "              document.getElementById('coverpix_preview').style.display = 'block';\n",
    "            }};\n",
    "          }})(f);\n",
    "          reader.readAsDataURL(f);\n",
    "        }}\n",
    "      }}\n",
    "      document.getElementById('id_coverpix').addEventListener('change', handleFileSelect, false);\n",
    "    </script>'''\n",
    "\n",
    "tmp.format(aa='test')"
   ]
  },
  {
   "cell_type": "code",
   "execution_count": 10,
   "metadata": {},
   "outputs": [
    {
     "data": {
      "text/plain": [
       "\"\\n    <img id='coverpix_preview' src='' style='display:none;height:100px;width:170px;object-fit:cover;' alt='a'>\\n\\n\""
      ]
     },
     "execution_count": 10,
     "metadata": {},
     "output_type": "execute_result"
    }
   ],
   "source": [
    "tmp = '''\n",
    "    <img id='coverpix_preview' src='' style='display:none;height:100px;width:170px;object-fit:cover;' alt='{}'>\n",
    "\n",
    "'''\n",
    "\n",
    "tmp.format('a')"
   ]
  },
  {
   "cell_type": "code",
   "execution_count": 4,
   "metadata": {},
   "outputs": [
    {
     "data": {
      "text/plain": [
       "'abc_ab_c'"
      ]
     },
     "execution_count": 4,
     "metadata": {},
     "output_type": "execute_result"
    }
   ],
   "source": [
    "'abc-ab-c'.replace('-', '_')"
   ]
  },
  {
   "cell_type": "code",
   "execution_count": 15,
   "metadata": {},
   "outputs": [
    {
     "data": {
      "text/plain": [
       "'1627738649_052187'"
      ]
     },
     "execution_count": 15,
     "metadata": {},
     "output_type": "execute_result"
    }
   ],
   "source": [
    "str(datetime.now().timestamp()).replace('.', '_')"
   ]
  },
  {
   "cell_type": "code",
   "execution_count": 4,
   "metadata": {},
   "outputs": [
    {
     "data": {
      "text/plain": [
       "'test1'"
      ]
     },
     "execution_count": 4,
     "metadata": {},
     "output_type": "execute_result"
    }
   ],
   "source": [
    "'test' + str(1)"
   ]
  },
  {
   "cell_type": "code",
   "execution_count": 18,
   "metadata": {},
   "outputs": [
    {
     "ename": "TypeError",
     "evalue": "'ResearchItem' object is not subscriptable",
     "output_type": "error",
     "traceback": [
      "\u001b[0;31m---------------------------------------------------------------------------\u001b[0m",
      "\u001b[0;31mTypeError\u001b[0m                                 Traceback (most recent call last)",
      "\u001b[0;32m<ipython-input-18-dbe1b3739149>\u001b[0m in \u001b[0;36m<module>\u001b[0;34m\u001b[0m\n\u001b[0;32m----> 1\u001b[0;31m \u001b[0mm\u001b[0m\u001b[0;34m.\u001b[0m\u001b[0mResearchItem\u001b[0m\u001b[0;34m.\u001b[0m\u001b[0mobjects\u001b[0m\u001b[0;34m.\u001b[0m\u001b[0mget\u001b[0m\u001b[0;34m(\u001b[0m\u001b[0mpk\u001b[0m\u001b[0;34m=\u001b[0m\u001b[0;36m7\u001b[0m\u001b[0;34m)\u001b[0m\u001b[0;34m[\u001b[0m\u001b[0;34m'pix_0'\u001b[0m\u001b[0;34m]\u001b[0m\u001b[0;34m\u001b[0m\u001b[0;34m\u001b[0m\u001b[0m\n\u001b[0m",
      "\u001b[0;31mTypeError\u001b[0m: 'ResearchItem' object is not subscriptable"
     ]
    }
   ],
   "source": [
    "['pix_0']"
   ]
  },
  {
   "cell_type": "code",
   "execution_count": 19,
   "metadata": {},
   "outputs": [
    {
     "data": {
      "text/plain": [
       "<ImageFieldFile: research/quantlab@kakao.com/2021-07-29/items/2021-08-02_031536.186281__9M_image1.png>"
      ]
     },
     "execution_count": 19,
     "metadata": {},
     "output_type": "execute_result"
    }
   ],
   "source": [
    "getattr(m.ResearchItem.objects.get(pk=7), 'pix_0')"
   ]
  },
  {
   "cell_type": "code",
   "execution_count": 33,
   "metadata": {},
   "outputs": [
    {
     "data": {
      "text/plain": [
       "True"
      ]
     },
     "execution_count": 33,
     "metadata": {},
     "output_type": "execute_result"
    }
   ],
   "source": [
    "bool(m.ResearchItem.objects.get(pk=7).mcpix_1)"
   ]
  },
  {
   "cell_type": "code",
   "execution_count": 36,
   "metadata": {},
   "outputs": [
    {
     "data": {
      "text/plain": [
       "False"
      ]
     },
     "execution_count": 36,
     "metadata": {},
     "output_type": "execute_result"
    }
   ],
   "source": [
    "not True"
   ]
  },
  {
   "cell_type": "code",
   "execution_count": null,
   "metadata": {},
   "outputs": [],
   "source": []
  }
 ],
 "metadata": {
  "kernelspec": {
   "display_name": "Python 3",
   "language": "python",
   "name": "python3"
  },
  "language_info": {
   "codemirror_mode": {
    "name": "ipython",
    "version": 3
   },
   "file_extension": ".py",
   "mimetype": "text/x-python",
   "name": "python",
   "nbconvert_exporter": "python",
   "pygments_lexer": "ipython3",
   "version": "3.8.5"
  }
 },
 "nbformat": 4,
 "nbformat_minor": 4
}
