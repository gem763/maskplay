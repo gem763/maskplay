{
 "cells": [
  {
   "cell_type": "code",
   "execution_count": 1,
   "metadata": {},
   "outputs": [],
   "source": [
    "%load_ext autoreload\n",
    "%autoreload\n",
    "\n",
    "import os\n",
    "import sys\n",
    "import random\n",
    "import django\n",
    "from IPython.core.debugger import set_trace\n",
    "from pathlib import Path\n",
    "from django.core.files.base import ContentFile\n",
    "from rest_framework import serializers\n",
    "from datetime import datetime\n",
    "import time\n",
    "from tqdm import tqdm_notebook\n",
    "\n",
    "parentdir = os.path.abspath(os.path.join(os.getcwd(), os.pardir))\n",
    "sys.path.append(parentdir)\n",
    "django.setup()\n",
    "\n",
    "import getch.models as m\n",
    "from django.apps import apps\n",
    "from django_currentuser.middleware import get_current_user"
   ]
  },
  {
   "cell_type": "code",
   "execution_count": null,
   "metadata": {},
   "outputs": [
    {
     "name": "stderr",
     "output_type": "stream",
     "text": [
      "<ipython-input-13-90bf6c7e2089>:3: TqdmDeprecationWarning: This function will be removed in tqdm==5.0.0\n",
      "Please use `tqdm.notebook.tqdm` instead of `tqdm.tqdm_notebook`\n",
      "  for post in tqdm_notebook(m.Post.objects.order_by('-created_at')[20:]):\n"
     ]
    },
    {
     "data": {
      "application/vnd.jupyter.widget-view+json": {
       "model_id": "f9ef0cd1736b4003971264ed2a45b416",
       "version_major": 2,
       "version_minor": 0
      },
      "text/plain": [
       "  0%|          | 0/485 [00:00<?, ?it/s]"
      ]
     },
     "metadata": {},
     "output_type": "display_data"
    }
   ],
   "source": [
    "guestboo = m.Boo.guestboo\n",
    "\n",
    "for post in tqdm_notebook(m.Post.objects.order_by('-created_at')[20:]):\n",
    "    \n",
    "    for i in range(random.randrange(10,20)):\n",
    "#         post.vote(0, guestboo, note=time.time())\n",
    "        m.Flager.vote_up(post, guestboo, time.time())\n",
    "        \n",
    "    for i in range(random.randrange(10,20)):\n",
    "#         post.vote(1, guestboo, note=time.time())\n",
    "        m.Flager.vote_down(post, guestboo, time.time())\n",
    "#     break\n",
    "\n",
    "    post.nvotes_up = post._nvotes_up\n",
    "    post.nvotes_down = post._nvotes_down\n",
    "    post.save()\n",
    "    \n",
    "#     break"
   ]
  },
  {
   "cell_type": "code",
   "execution_count": 12,
   "metadata": {},
   "outputs": [
    {
     "name": "stderr",
     "output_type": "stream",
     "text": [
      "<ipython-input-12-301bcbfb1a04>:1: TqdmDeprecationWarning: This function will be removed in tqdm==5.0.0\n",
      "Please use `tqdm.notebook.tqdm` instead of `tqdm.tqdm_notebook`\n",
      "  for post in tqdm_notebook(m.PostQA.objects.order_by('-created_at')):\n"
     ]
    },
    {
     "data": {
      "application/vnd.jupyter.widget-view+json": {
       "model_id": "a2f89e1e7d7f4a17b9629b00478cee03",
       "version_major": 2,
       "version_minor": 0
      },
      "text/plain": [
       "  0%|          | 0/200 [00:00<?, ?it/s]"
      ]
     },
     "metadata": {},
     "output_type": "display_data"
    }
   ],
   "source": [
    "for post in tqdm_notebook(m.PostQA.objects.order_by('-created_at')):\n",
    "    flags = m.Flager.objects.filter(object_id=post.id, status=1)\n",
    "    flags.delete()\n",
    "#     break"
   ]
  },
  {
   "cell_type": "code",
   "execution_count": null,
   "metadata": {},
   "outputs": [],
   "source": []
  },
  {
   "cell_type": "code",
   "execution_count": null,
   "metadata": {},
   "outputs": [],
   "source": []
  },
  {
   "cell_type": "code",
   "execution_count": null,
   "metadata": {},
   "outputs": [],
   "source": []
  },
  {
   "cell_type": "code",
   "execution_count": null,
   "metadata": {},
   "outputs": [],
   "source": []
  },
  {
   "cell_type": "code",
   "execution_count": null,
   "metadata": {},
   "outputs": [],
   "source": []
  },
  {
   "cell_type": "markdown",
   "metadata": {},
   "source": [
    "# MaskBase"
   ]
  },
  {
   "cell_type": "code",
   "execution_count": 2,
   "metadata": {},
   "outputs": [
    {
     "data": {
      "text/plain": [
       "<QuerySet []>"
      ]
     },
     "execution_count": 2,
     "metadata": {},
     "output_type": "execute_result"
    }
   ],
   "source": [
    "#m.MaskBase.objects.all().delete()\n",
    "m.MaskBase.objects.all()"
   ]
  },
  {
   "cell_type": "code",
   "execution_count": 3,
   "metadata": {},
   "outputs": [],
   "source": [
    "dir_masks = Path(parentdir) / 'getch/static/materials/masks'"
   ]
  },
  {
   "cell_type": "code",
   "execution_count": 4,
   "metadata": {
    "scrolled": true
   },
   "outputs": [],
   "source": [
    "for d in dir_masks.glob('*'):\n",
    "    if d.name != 'archives':\n",
    "        _type = d.name.upper()\n",
    "        \n",
    "        for f in d.rglob('*.*'):\n",
    "            cat = f.parts[-2]\n",
    "            \n",
    "            if cat != 'raw':\n",
    "                maskbase = m.MaskBase.objects.create(type=_type, category=cat)\n",
    "                maskbase.pix.save(f.name, ContentFile(f.read_bytes()), save=True)"
   ]
  },
  {
   "cell_type": "code",
   "execution_count": null,
   "metadata": {},
   "outputs": [],
   "source": []
  },
  {
   "cell_type": "code",
   "execution_count": null,
   "metadata": {},
   "outputs": [],
   "source": []
  },
  {
   "cell_type": "markdown",
   "metadata": {},
   "source": [
    "# MaskSerializer"
   ]
  },
  {
   "cell_type": "code",
   "execution_count": 7,
   "metadata": {},
   "outputs": [
    {
     "data": {
      "text/plain": [
       "EyeMaskSerializer():\n",
       "    id = IntegerField(read_only=True)\n",
       "    maskbase = PrimaryKeyRelatedField(queryset=MaskBase.objects.all(), required=False)\n",
       "    top = FloatField(required=False)\n",
       "    left = FloatField(required=False)\n",
       "    width = FloatField(required=False)\n",
       "    height = FloatField(required=False)"
      ]
     },
     "execution_count": 7,
     "metadata": {},
     "output_type": "execute_result"
    }
   ],
   "source": [
    "class EyeMaskSerializer(serializers.ModelSerializer):\n",
    "    class Meta:\n",
    "        model = m.EyeMask\n",
    "        fields = ['id', 'maskbase', 'top', 'left', 'width', 'height']\n",
    "        read_only_fields = ['id']\n",
    "        \n",
    "class MouthMaskSerializer(serializers.ModelSerializer):\n",
    "    class Meta:\n",
    "        model = m.MouthMask\n",
    "        fields = ['id', 'maskbase', 'top', 'left', 'width', 'height']\n",
    "        read_only_fields = ['id']        \n",
    "        \n",
    "EyeMaskSerializer()"
   ]
  },
  {
   "cell_type": "markdown",
   "metadata": {},
   "source": [
    "## Serializing"
   ]
  },
  {
   "cell_type": "code",
   "execution_count": 8,
   "metadata": {},
   "outputs": [
    {
     "data": {
      "text/plain": [
       "{'id': 1, 'maskbase': 1, 'top': 0.0, 'left': 0.0, 'width': 100.0, 'height': 20.0}"
      ]
     },
     "execution_count": 8,
     "metadata": {},
     "output_type": "execute_result"
    }
   ],
   "source": [
    "eyemask = m.EyeMask.objects.first()\n",
    "data = EyeMaskSerializer(eyemask).data; data"
   ]
  },
  {
   "cell_type": "markdown",
   "metadata": {},
   "source": [
    "## Deserializing\n",
    "### 1. Create\n",
    "* serializer로 creation 하지 않는다\n",
    "* profile 생성할때 mask(1-1관계)는 default로 무조건 같이 생성되며, 이때 Mask.objects.create()를 쓴다"
   ]
  },
  {
   "cell_type": "code",
   "execution_count": 2,
   "metadata": {},
   "outputs": [],
   "source": [
    "eyemask = m.EyeMask.objects.create(); eyemask;"
   ]
  },
  {
   "cell_type": "code",
   "execution_count": 9,
   "metadata": {},
   "outputs": [],
   "source": [
    "# serializer = MaskSerializer(data={'maskbase':15, 'top':10, 'left':0, 'width':50, 'height':50})\n",
    "# serializer.is_valid()\n",
    "# mask = serializer.save(); mask"
   ]
  },
  {
   "cell_type": "markdown",
   "metadata": {},
   "source": [
    "### 2. Update"
   ]
  },
  {
   "cell_type": "code",
   "execution_count": 12,
   "metadata": {},
   "outputs": [
    {
     "data": {
      "text/plain": [
       "<EyeMask: EYE | cartoon_m | 2020-08-11_095158.942119SIDEB_EYEMASK_M_CARTOON_05_onepunman.jpg | T=10.0, L=0.0, W=50.0, H=50.0>"
      ]
     },
     "execution_count": 12,
     "metadata": {},
     "output_type": "execute_result"
    }
   ],
   "source": [
    "serializer = EyeMaskSerializer(eyemask, data={'maskbase':15, 'top':10, 'left':0, 'width':50, 'height':50})\n",
    "serializer.is_valid()\n",
    "eyemask = serializer.save(); eyemask"
   ]
  },
  {
   "cell_type": "code",
   "execution_count": null,
   "metadata": {},
   "outputs": [],
   "source": []
  },
  {
   "cell_type": "markdown",
   "metadata": {},
   "source": [
    "# ProfileSerializer"
   ]
  },
  {
   "cell_type": "code",
   "execution_count": 5,
   "metadata": {},
   "outputs": [
    {
     "data": {
      "text/plain": [
       "ProfileSerializer():\n",
       "    id = IntegerField(read_only=True)\n",
       "    type = ChoiceField(choices=(('CHARACTER', 'character'), ('IMAGE', 'image'), ('TEXT', 'text')), required=False)\n",
       "    pix = ImageField(allow_null=True, max_length=500, required=False)\n",
       "    character = PrimaryKeyRelatedField(allow_null=True, queryset=Character.objects.all(), required=False)\n",
       "    image = ImageField(allow_null=True, max_length=500, required=False)\n",
       "    text = CharField(allow_blank=True, allow_null=True, max_length=10, required=False)"
      ]
     },
     "execution_count": 5,
     "metadata": {},
     "output_type": "execute_result"
    }
   ],
   "source": [
    "class ProfileSerializer(serializers.ModelSerializer):\n",
    "    #eyemask = EyeMaskSerializer(required=False)\n",
    "    #mouthmask = MouthMaskSerializer(required=False)\n",
    "\n",
    "    class Meta:\n",
    "        model = m.Profile\n",
    "        fields = ['id', 'type', 'pix', 'character', 'image', 'text']#, 'eyemask', 'mouthmask']\n",
    "        read_only_fields = ['id']\n",
    "        \n",
    "ProfileSerializer()"
   ]
  },
  {
   "cell_type": "markdown",
   "metadata": {},
   "source": [
    "## Serializing"
   ]
  },
  {
   "cell_type": "code",
   "execution_count": 6,
   "metadata": {},
   "outputs": [
    {
     "data": {
      "text/plain": [
       "{'id': 34, 'type': 'TEXT', 'pix': 'https://storage.googleapis.com/sideb-proejct.appspot.com/user/sejin76%40nate.com/2020-08-13_195919.813847__sejin76nate.com_mypix.png?Expires=1597995451&GoogleAccessId=sideb-serviceaccount%40sideb-proejct.iam.gserviceaccount.com&Signature=fsVsSTtjcW2gkYXXYwX6wx%2BmOQgmp%2BSZTCYkoe9W8KJGiYFHw7zK19Ljycw3JGjwpRMdlHqfenfG16mTpDrnolfeuGz5tWRec%2FOHVOHZFxOEcIokGVhspuwIcr8dCQ4Ng9B37TqQCv%2F3tnNyeoEFEtsJNPwzGcoiY1SWLX9z1iiCJHXDDf%2Bgty4JlP%2FeF4f%2Fw2Eihz23jFxbOwwi3xuzpk0MOauERQg%2FueACvqdB5s46LrSHgeKwLBFY2jiNnLTSSW%2B09VgEUxOQHF4Kcqrz%2F0tRN9nmzakgmdCzKxu4xMUpd9RL2L9GrblcD9VkIVMq99287Jnu56lxz34WfkPXEQ%3D%3D', 'character': 1, 'image': None, 'text': '강'}"
      ]
     },
     "execution_count": 6,
     "metadata": {},
     "output_type": "execute_result"
    }
   ],
   "source": [
    "profile = m.Profile.objects.last()\n",
    "data = ProfileSerializer(profile).data; data"
   ]
  },
  {
   "cell_type": "markdown",
   "metadata": {},
   "source": [
    "## Deserializing\n",
    "### 1. create"
   ]
  },
  {
   "cell_type": "code",
   "execution_count": 15,
   "metadata": {},
   "outputs": [
    {
     "data": {
      "text/plain": [
       "<ImageFieldFile: post/2020/7/22/sejin76@nate.com/2020-07-22_195937.085170__AB_anorak_B.jpg>"
      ]
     },
     "execution_count": 15,
     "metadata": {},
     "output_type": "execute_result"
    }
   ],
   "source": [
    "pix = m.PostVoteOX.objects.all()[0].pix; pix"
   ]
  },
  {
   "cell_type": "code",
   "execution_count": 17,
   "metadata": {},
   "outputs": [
    {
     "data": {
      "text/plain": [
       "False"
      ]
     },
     "execution_count": 17,
     "metadata": {},
     "output_type": "execute_result"
    }
   ],
   "source": [
    "serializer = ProfileSerializer(data={'type':'IMAGE', 'text':'TESTTEST', 'pix':None, 'image':None, 'eye_mask':None, 'mouth_mask':None})\n",
    "serializer.is_valid()\n",
    "# profile = serializer.save(); profile"
   ]
  },
  {
   "cell_type": "code",
   "execution_count": 19,
   "metadata": {},
   "outputs": [
    {
     "data": {
      "text/plain": [
       "{}"
      ]
     },
     "execution_count": 19,
     "metadata": {},
     "output_type": "execute_result"
    }
   ],
   "source": [
    "serializer.validated_data"
   ]
  },
  {
   "cell_type": "code",
   "execution_count": null,
   "metadata": {},
   "outputs": [],
   "source": []
  },
  {
   "cell_type": "code",
   "execution_count": 2,
   "metadata": {},
   "outputs": [],
   "source": [
    "profile = m.Profile.objects.create()"
   ]
  },
  {
   "cell_type": "code",
   "execution_count": 4,
   "metadata": {},
   "outputs": [
    {
     "data": {
      "text/plain": [
       "<ImageFieldFile: material/profile.png>"
      ]
     },
     "execution_count": 4,
     "metadata": {},
     "output_type": "execute_result"
    }
   ],
   "source": [
    "profile.pix"
   ]
  },
  {
   "cell_type": "code",
   "execution_count": null,
   "metadata": {},
   "outputs": [],
   "source": []
  },
  {
   "cell_type": "code",
   "execution_count": null,
   "metadata": {},
   "outputs": [],
   "source": []
  },
  {
   "cell_type": "code",
   "execution_count": 2,
   "metadata": {},
   "outputs": [
    {
     "data": {
      "text/plain": [
       "<Boo: sideb | sideb@sideb.com>"
      ]
     },
     "execution_count": 2,
     "metadata": {},
     "output_type": "execute_result"
    }
   ],
   "source": [
    "user = m.User.objects.get(pk=1)\n",
    "m.Boo.objects.create(user=user)"
   ]
  },
  {
   "cell_type": "code",
   "execution_count": null,
   "metadata": {},
   "outputs": [],
   "source": []
  },
  {
   "cell_type": "code",
   "execution_count": null,
   "metadata": {},
   "outputs": [],
   "source": []
  },
  {
   "cell_type": "markdown",
   "metadata": {},
   "source": [
    "# PostSerializer"
   ]
  },
  {
   "cell_type": "code",
   "execution_count": 7,
   "metadata": {},
   "outputs": [
    {
     "data": {
      "text/plain": [
       "PostSerializer():\n",
       "    id = IntegerField(read_only=True)\n",
       "    text = CharField(allow_blank=True, allow_null=True, max_length=500, required=False, style={'base_template': 'textarea.html'})\n",
       "    created_at = DateTimeField(read_only=True)\n",
       "    boo = PrimaryKeyRelatedField(allow_null=True, queryset=Boo.objects.all(), required=False)"
      ]
     },
     "execution_count": 7,
     "metadata": {},
     "output_type": "execute_result"
    }
   ],
   "source": [
    "class AuthorSerializer(serializers.ModelSerializer):\n",
    "    pix = serializers.SerializerMethodField()\n",
    "    \n",
    "    class Meta:\n",
    "        model = m.Boo\n",
    "        fields = ['id', 'nick', 'text', 'pix']\n",
    "        read_only_fields = fields\n",
    "\n",
    "    def get_pix(self, obj):\n",
    "        return obj.profile.pix.url\n",
    "    \n",
    "\n",
    "class PostVoteOXSerializer(serializers.ModelSerializer):\n",
    "    boo = AuthorSerializer()\n",
    "    \n",
    "    class Meta:\n",
    "        model = m.PostVoteOX\n",
    "        fields = ['id', 'boo', 'text', 'pix']\n",
    "        read_only_fields = ['id']\n",
    "        \n",
    "class PostVoteABSerializer(serializers.ModelSerializer):\n",
    "    boo = AuthorSerializer()\n",
    "    \n",
    "    class Meta:\n",
    "        model = m.PostVoteAB\n",
    "        fields = ['id', 'boo', 'text', 'pix_a', 'pix_b']\n",
    "        read_only_fields = ['id']\n",
    "    \n",
    "class PostSerializer(serializers.ModelSerializer):\n",
    "    class Meta:\n",
    "        model = m.Post\n",
    "        fields = '__all__'\n",
    "        \n",
    "    def to_representation(self, instance):\n",
    "        if isinstance(instance, m.PostVoteOX):\n",
    "            return PostVoteOXSerializer(instance=instance).data\n",
    "        \n",
    "        elif isinstance(instance, m.PostVoteAB):\n",
    "            return PostVoteABSerializer(instance=instance).data\n",
    "        \n",
    "    def create(self, validated_data):\n",
    "        _type = self.initial_data.pop('type')\n",
    "        \n",
    "        if _type == 'postvoteox':\n",
    "            ser = PostVoteOXSerializer(data=self.initial_data, partial=True)\n",
    "        \n",
    "        elif _type == 'postvoteab':\n",
    "            ser = PostVoteABSerializer(data=self.initial_data, partial=True)\n",
    "\n",
    "        if ser.is_valid():\n",
    "            return ser.save()\n",
    "        \n",
    "        else:\n",
    "            print('something wrong when creating post data')\n",
    "            return None\n",
    "    \n",
    "    \n",
    "    def update(self, instance, validated_data):\n",
    "        _type = instance.__class__.__name__.lower()\n",
    "        \n",
    "        if _type == 'postvoteox':\n",
    "            ser = PostVoteOXSerializer(instance, data=self.initial_data, partial=True)\n",
    "        \n",
    "        elif _type == 'postvoteab':\n",
    "            ser = PostVoteABSerializer(instance, data=self.initial_data, partial=True)\n",
    "        \n",
    "        if ser.is_valid():\n",
    "            ser.save()\n",
    "        \n",
    "        else:\n",
    "            print('something wrong when updating post data')\n",
    "        \n",
    "        return instance\n",
    "    \n",
    "            \n",
    "PostVoteOXSerializer()\n",
    "PostSerializer()"
   ]
  },
  {
   "cell_type": "markdown",
   "metadata": {},
   "source": [
    "## Serializing"
   ]
  },
  {
   "cell_type": "code",
   "execution_count": 8,
   "metadata": {
    "scrolled": true
   },
   "outputs": [
    {
     "data": {
      "text/plain": [
       "{'id': 8, 'boo': OrderedDict([('id', 6), ('nick', '사이드비'), ('text', ''), ('pix', 'https://storage.googleapis.com/sideb-proejct.appspot.com/user/sideb%40sideb.com/2020-08-12_183659.151781__einstein.jpg?Expires=1597995517&GoogleAccessId=sideb-serviceaccount%40sideb-proejct.iam.gserviceaccount.com&Signature=QJgLrW78witNmxVqn7IryVpbRmMMHWVDyHRPTEelAdrMTe7hWmr79aZU0A7xAxRnAZIEU%2BlvyfvfSMXm%2BVahU5rnwADClUWQLp98qNlHE0M8S8HK0FDbkShFJBtxn97rooUAJk9Get6lEi3aWZ5dM92goCoXiPu%2FNkWztvzggwSVMob5j1Lo3HZbHktDUs3cyFk0O3g4mzqmvtAYCcUFale1U%2FrqGUC6%2BP0qm4MdYNEy3A5MADB%2FLZsGkUFgPnk6gv5MBmb8Vqgg8r28%2BEyTuhfRdNyRZgRlLIszi%2FVd%2F2re%2FrkrDonWdWRhyYYHReZoNoLLS%2B%2FpSQUa%2FI7R6kCRHQ%3D%3D')]), 'text': '나에게로의 여행\\r\\n어때, 즐길 준비 됐어?\\r\\n#HEY SIDE-b', 'pix': 'https://storage.googleapis.com/sideb-proejct.appspot.com/post/2020/8/20/sideb%40sideb.com/2020-08-20_143347.549448__sideb_logo.jpg?Expires=1597995517&GoogleAccessId=sideb-serviceaccount%40sideb-proejct.iam.gserviceaccount.com&Signature=bdn6mRvKUI%2FuXqaSm58Y29am0MHa0aZ0doR7xi7GyKMBkxXghKahK%2BwvdO0T%2FI2DcJiZbAskv44vE9nzhJy7d%2BZvjAbcFftBrrmzmgBXY6fWLCf94E9050ss4ssLnFBoEv%2BNMy%2BgHiVUefZSf%2Fe5XHzBJUZjKEdy6u1rTgAiRVcfTD3e2aHFkqa9WBoNWxP9TzeFZ1xhJSaMgu6pw0hDSnnX%2FQoxHkwA6SrWW7BkQqpaqKBcFcXZRoG%2F70DjoCYryWcQeeY0jqAf2LPyjgV92Pjtw0tzkL7WsL1QybX5UTwJbxAIg%2BEOoDKrBS0Cs0qffwL80L9AB7cZ6pNLneSHNw%3D%3D'}"
      ]
     },
     "execution_count": 8,
     "metadata": {},
     "output_type": "execute_result"
    }
   ],
   "source": [
    "posts = m.Post.objects.select_subclasses()\n",
    "data = PostSerializer(posts, many=True).data; data[0]"
   ]
  },
  {
   "cell_type": "code",
   "execution_count": 52,
   "metadata": {},
   "outputs": [
    {
     "data": {
      "text/plain": [
       "<PostVoteOX: OX | >"
      ]
     },
     "execution_count": 52,
     "metadata": {},
     "output_type": "execute_result"
    }
   ],
   "source": [
    "posts[1]"
   ]
  },
  {
   "cell_type": "markdown",
   "metadata": {},
   "source": [
    "## Deserializing\n",
    "### 1. Create"
   ]
  },
  {
   "cell_type": "code",
   "execution_count": 53,
   "metadata": {},
   "outputs": [
    {
     "data": {
      "text/plain": [
       "<PostVoteAB: AB | >"
      ]
     },
     "execution_count": 53,
     "metadata": {},
     "output_type": "execute_result"
    }
   ],
   "source": [
    "ser = PostSerializer(data={'type':'postvoteab', 'text':'얼레리꼴레리', 'pix_a':posts[0].pix, 'pix_b':posts[1].pix}, partial=True)\n",
    "ser.is_valid()\n",
    "post = ser.save(); post"
   ]
  },
  {
   "cell_type": "markdown",
   "metadata": {},
   "source": [
    "### 2. Update"
   ]
  },
  {
   "cell_type": "code",
   "execution_count": 47,
   "metadata": {},
   "outputs": [
    {
     "data": {
      "text/plain": [
       "<PostVoteOX: OX | >"
      ]
     },
     "execution_count": 47,
     "metadata": {},
     "output_type": "execute_result"
    }
   ],
   "source": [
    "post"
   ]
  },
  {
   "cell_type": "code",
   "execution_count": 50,
   "metadata": {},
   "outputs": [
    {
     "data": {
      "text/plain": [
       "<PostVoteOX: OX | >"
      ]
     },
     "execution_count": 50,
     "metadata": {},
     "output_type": "execute_result"
    }
   ],
   "source": [
    "ser = PostSerializer(post, data={'boo':15, 'text':'자나깨나뽕#으엉으엉우엉'}, partial=True)\n",
    "ser.is_valid()\n",
    "post = ser.save(); post"
   ]
  },
  {
   "cell_type": "code",
   "execution_count": null,
   "metadata": {},
   "outputs": [],
   "source": []
  },
  {
   "cell_type": "code",
   "execution_count": 2,
   "metadata": {},
   "outputs": [
    {
     "data": {
      "text/plain": [
       "<InheritanceQuerySet [<PostVoteOX: OX | 2020-08-19 08:57:48.072436+00:00>, <PostVoteOX: OX | 2020-08-20 02:14:46.581017+00:00 | 모지리왕# | sejin76@nate.com>, <PostVoteOX: OX | 2020-08-20 02:16:36.069362+00:00 | 모지리왕# | sejin76@nate.com>, <PostVoteAB: AB | 2020-08-20 04:51:03.216220+00:00>]>"
      ]
     },
     "execution_count": 2,
     "metadata": {},
     "output_type": "execute_result"
    }
   ],
   "source": [
    "m.Post.objects.select_subclasses()"
   ]
  },
  {
   "cell_type": "code",
   "execution_count": null,
   "metadata": {},
   "outputs": [],
   "source": []
  },
  {
   "cell_type": "code",
   "execution_count": null,
   "metadata": {},
   "outputs": [],
   "source": []
  },
  {
   "cell_type": "code",
   "execution_count": null,
   "metadata": {},
   "outputs": [],
   "source": []
  },
  {
   "cell_type": "code",
   "execution_count": null,
   "metadata": {},
   "outputs": [],
   "source": []
  },
  {
   "cell_type": "code",
   "execution_count": null,
   "metadata": {},
   "outputs": [],
   "source": []
  },
  {
   "cell_type": "code",
   "execution_count": 7,
   "metadata": {},
   "outputs": [
    {
     "data": {
      "text/plain": [
       "<PostVoteOX: OX | 2020-08-20 05:33:47.195414+00:00 | 모이버 | moiber@moiber.com>"
      ]
     },
     "execution_count": 7,
     "metadata": {},
     "output_type": "execute_result"
    }
   ],
   "source": [
    "_post = m.Post.objects.select_subclasses()[0]; _post"
   ]
  },
  {
   "cell_type": "code",
   "execution_count": 9,
   "metadata": {},
   "outputs": [
    {
     "data": {
      "text/plain": [
       "<Postpix: Postpix object (2)>"
      ]
     },
     "execution_count": 9,
     "metadata": {},
     "output_type": "execute_result"
    }
   ],
   "source": [
    "m.Postpix.objects.create(post=_post, img=_post.pix)"
   ]
  },
  {
   "cell_type": "code",
   "execution_count": null,
   "metadata": {},
   "outputs": [],
   "source": []
  }
 ],
 "metadata": {
  "kernelspec": {
   "display_name": "Django Shell-Plus",
   "language": "python",
   "name": "django_extensions"
  },
  "language_info": {
   "codemirror_mode": {
    "name": "ipython",
    "version": 3
   },
   "file_extension": ".py",
   "mimetype": "text/x-python",
   "name": "python",
   "nbconvert_exporter": "python",
   "pygments_lexer": "ipython3",
   "version": "3.8.5"
  }
 },
 "nbformat": 4,
 "nbformat_minor": 4
}
