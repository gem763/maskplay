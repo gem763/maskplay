{
 "cells": [
  {
   "cell_type": "code",
   "execution_count": 19,
   "metadata": {},
   "outputs": [
    {
     "name": "stdout",
     "output_type": "stream",
     "text": [
      "The autoreload extension is already loaded. To reload it, use:\n",
      "  %reload_ext autoreload\n"
     ]
    }
   ],
   "source": [
    "%load_ext autoreload\n",
    "%autoreload\n",
    "\n",
    "import os\n",
    "import sys\n",
    "import django\n",
    "from IPython.core.debugger import set_trace\n",
    "from pathlib import Path\n",
    "from django.core.files.base import ContentFile\n",
    "from rest_framework import serializers\n",
    "\n",
    "parentdir = os.path.abspath(os.path.join(os.getcwd(), os.pardir))\n",
    "sys.path.append(parentdir)\n",
    "django.setup()"
   ]
  },
  {
   "cell_type": "code",
   "execution_count": 2,
   "metadata": {},
   "outputs": [],
   "source": [
    "import getch.models as m"
   ]
  },
  {
   "cell_type": "code",
   "execution_count": 3,
   "metadata": {},
   "outputs": [],
   "source": [
    "#m.MaskBase.objects.all().delete()"
   ]
  },
  {
   "cell_type": "code",
   "execution_count": 4,
   "metadata": {},
   "outputs": [],
   "source": [
    "m.MaskBase.objects.all();"
   ]
  },
  {
   "cell_type": "markdown",
   "metadata": {},
   "source": [
    "# MaskBase"
   ]
  },
  {
   "cell_type": "code",
   "execution_count": 119,
   "metadata": {},
   "outputs": [],
   "source": [
    "dir_masks = Path(parentdir) / 'getch/static/materials/masks'"
   ]
  },
  {
   "cell_type": "code",
   "execution_count": 120,
   "metadata": {
    "scrolled": true
   },
   "outputs": [],
   "source": [
    "for d in dir_masks.glob('*'):\n",
    "    if d.name != 'archives':\n",
    "        _type = d.name.upper()\n",
    "        \n",
    "        for f in d.rglob('*.*'):\n",
    "            cat = f.parts[-2]\n",
    "            \n",
    "            if cat != 'raw':\n",
    "                maskbase = m.MaskBase.objects.create(type=_type, category=cat)\n",
    "                maskbase.pix.save(f.name, ContentFile(f.read_bytes()), save=True)"
   ]
  },
  {
   "cell_type": "code",
   "execution_count": null,
   "metadata": {},
   "outputs": [],
   "source": []
  },
  {
   "cell_type": "code",
   "execution_count": null,
   "metadata": {},
   "outputs": [],
   "source": []
  },
  {
   "cell_type": "markdown",
   "metadata": {},
   "source": [
    "# MaskSerializer"
   ]
  },
  {
   "cell_type": "code",
   "execution_count": 38,
   "metadata": {},
   "outputs": [
    {
     "data": {
      "text/plain": [
       "MaskSerializer():\n",
       "    id = IntegerField(read_only=True)\n",
       "    maskbase = PrimaryKeyRelatedField(queryset=MaskBase.objects.all())\n",
       "    top = FloatField(required=False)\n",
       "    left = FloatField(required=False)\n",
       "    width = FloatField(required=False)\n",
       "    height = FloatField(required=False)"
      ]
     },
     "execution_count": 38,
     "metadata": {},
     "output_type": "execute_result"
    }
   ],
   "source": [
    "class MaskSerializer(serializers.ModelSerializer):\n",
    "    class Meta:\n",
    "        model = m.Mask\n",
    "        fields = ['id', 'maskbase', 'top', 'left', 'width', 'height']\n",
    "        read_only_fields = ['id']\n",
    "        \n",
    "MaskSerializer()"
   ]
  },
  {
   "cell_type": "markdown",
   "metadata": {},
   "source": [
    "## Serializing"
   ]
  },
  {
   "cell_type": "code",
   "execution_count": 21,
   "metadata": {},
   "outputs": [
    {
     "data": {
      "text/plain": [
       "{'id': 2, 'maskbase': 14, 'top': 0.0, 'left': 0.0, 'width': 100.0, 'height': 20.0}"
      ]
     },
     "execution_count": 21,
     "metadata": {},
     "output_type": "execute_result"
    }
   ],
   "source": [
    "mask = m.Mask.objects.all()[0]\n",
    "data = MaskSerializer(mask).data; data"
   ]
  },
  {
   "cell_type": "markdown",
   "metadata": {},
   "source": [
    "## Deserializing\n",
    "### 1. Create"
   ]
  },
  {
   "cell_type": "code",
   "execution_count": 24,
   "metadata": {},
   "outputs": [
    {
     "data": {
      "text/plain": [
       "<Mask: EYE | animal | 2020-08-07_110328.890580SIDEB_EYEMASK_A_ANIMAL_02_cat.jpg | T=10.0, L=0.0, W=50.0, H=50.0>"
      ]
     },
     "execution_count": 24,
     "metadata": {},
     "output_type": "execute_result"
    }
   ],
   "source": [
    "serializer = MaskSerializer(data={'maskbase':15, 'top':10, 'left':0, 'width':50, 'height':50})\n",
    "serializer.is_valid()\n",
    "mask = serializer.save(); mask"
   ]
  },
  {
   "cell_type": "markdown",
   "metadata": {},
   "source": [
    "### 2. Update"
   ]
  },
  {
   "cell_type": "code",
   "execution_count": 25,
   "metadata": {},
   "outputs": [
    {
     "data": {
      "text/plain": [
       "<Mask: EYE | animal | 2020-08-07_110330.219042SIDEB_EYEMASK_A_ANIMAL_02_dog.jpg | T=0.0, L=0.0, W=50.0, H=50.0>"
      ]
     },
     "execution_count": 25,
     "metadata": {},
     "output_type": "execute_result"
    }
   ],
   "source": [
    "serializer = MaskSerializer(mask, data={'maskbase':16, 'top':0, 'left':0, 'width':50, 'height':50})\n",
    "serializer.is_valid()\n",
    "mask = serializer.save(); mask"
   ]
  },
  {
   "cell_type": "markdown",
   "metadata": {},
   "source": [
    "# ProfileSerializer"
   ]
  },
  {
   "cell_type": "code",
   "execution_count": 50,
   "metadata": {},
   "outputs": [
    {
     "data": {
      "text/plain": [
       "ProfileSerializer():\n",
       "    id = IntegerField(read_only=True)\n",
       "    type = ChoiceField(choices=(('IMAGE', 'image'), ('TEXT', 'text')), required=False)\n",
       "    pix = ImageField(allow_null=True, max_length=500, required=False)\n",
       "    image = ImageField(allow_null=True, max_length=500, required=False)\n",
       "    text = CharField(allow_blank=True, allow_null=True, max_length=10, required=False)\n",
       "    eye_mask = MaskSerializer(required=False):\n",
       "        id = IntegerField(read_only=True)\n",
       "        maskbase = PrimaryKeyRelatedField(queryset=MaskBase.objects.all())\n",
       "        top = FloatField(required=False)\n",
       "        left = FloatField(required=False)\n",
       "        width = FloatField(required=False)\n",
       "        height = FloatField(required=False)\n",
       "    mouth_mask = MaskSerializer(required=False):\n",
       "        id = IntegerField(read_only=True)\n",
       "        maskbase = PrimaryKeyRelatedField(queryset=MaskBase.objects.all())\n",
       "        top = FloatField(required=False)\n",
       "        left = FloatField(required=False)\n",
       "        width = FloatField(required=False)\n",
       "        height = FloatField(required=False)"
      ]
     },
     "execution_count": 50,
     "metadata": {},
     "output_type": "execute_result"
    }
   ],
   "source": [
    "class ProfileSerializer(serializers.ModelSerializer):\n",
    "    eye_mask = MaskSerializer(required=False)\n",
    "    mouth_mask = MaskSerializer(required=False)\n",
    "\n",
    "    class Meta:\n",
    "        model = m.Profile\n",
    "        fields = ['id', 'type', 'pix', 'image', 'text', 'eye_mask', 'mouth_mask']\n",
    "        read_only_fields = ['id']\n",
    "        \n",
    "ProfileSerializer()"
   ]
  },
  {
   "cell_type": "markdown",
   "metadata": {},
   "source": [
    "## Serializing"
   ]
  },
  {
   "cell_type": "code",
   "execution_count": 51,
   "metadata": {},
   "outputs": [
    {
     "data": {
      "text/plain": [
       "{'id': 7, 'type': 'IMAGE', 'pix': 'https://storage.googleapis.com/sideb-proejct.appspot.com/user/sejin76%40nate.com/2020-08-05_093216.331442__mypix.png?Expires=1596880342&GoogleAccessId=sideb-serviceaccount%40sideb-proejct.iam.gserviceaccount.com&Signature=RiHZAVVdIj54j0bByXA0pRc2mkuGZigbLj3lZnd6Cl1jHc85I1dfcGUEwYxCsml%2FqvMeOZspLv7Ooc86zaZ80UcDDwpB3hhpSAb9KOsJx0Zj7O0xeBxuVTpfLi09wh2ruFr15JqdyfcB%2FjKM49Ba52kZZgaft5hNK1Wz1tTTAbkYRWIF333wsfiGJRIfzQj6ldz4hT54dVxRRXocKcgpGab3qZPM4FfeJKVw7SNVrUzFFhWnYOLBJXWsQUwXSMdKUMVL8SMbG5utE6q%2BQKUuaUsJeq05xGBGRTi%2F0GBMvVo8K%2B9PM8p0FPhGlf4u7qujNbR0KlOCFDRkKuM%2FAwLZKA%3D%3D', 'image': None, 'text': None, 'eye_mask': None, 'mouth_mask': None}"
      ]
     },
     "execution_count": 51,
     "metadata": {},
     "output_type": "execute_result"
    }
   ],
   "source": [
    "profile = m.Profile.objects.all()[0]\n",
    "data = ProfileSerializer(profile).data; data"
   ]
  },
  {
   "cell_type": "markdown",
   "metadata": {},
   "source": [
    "## Deserializing\n",
    "### 1. create"
   ]
  },
  {
   "cell_type": "code",
   "execution_count": 52,
   "metadata": {},
   "outputs": [],
   "source": [
    "pix = m.PostVoteOX.objects.all()[0].pix"
   ]
  },
  {
   "cell_type": "code",
   "execution_count": 55,
   "metadata": {},
   "outputs": [
    {
     "ename": "AssertionError",
     "evalue": "You cannot call `.save()` on a serializer with invalid data.",
     "output_type": "error",
     "traceback": [
      "\u001b[1;31m---------------------------------------------------------------------------\u001b[0m",
      "\u001b[1;31mAssertionError\u001b[0m                            Traceback (most recent call last)",
      "\u001b[1;32m<ipython-input-55-f3aeab8f2460>\u001b[0m in \u001b[0;36m<module>\u001b[1;34m\u001b[0m\n\u001b[0;32m      1\u001b[0m \u001b[0mserializer\u001b[0m \u001b[1;33m=\u001b[0m \u001b[0mProfileSerializer\u001b[0m\u001b[1;33m(\u001b[0m\u001b[0mdata\u001b[0m\u001b[1;33m=\u001b[0m\u001b[1;33m{\u001b[0m\u001b[1;34m'type'\u001b[0m\u001b[1;33m:\u001b[0m\u001b[1;34m'IMAGE'\u001b[0m\u001b[1;33m,\u001b[0m \u001b[1;34m'text'\u001b[0m\u001b[1;33m:\u001b[0m\u001b[1;34m'TESTTEST'\u001b[0m\u001b[1;33m,\u001b[0m \u001b[1;34m'pix'\u001b[0m\u001b[1;33m:\u001b[0m\u001b[0mpix\u001b[0m\u001b[1;33m,\u001b[0m \u001b[1;34m'image'\u001b[0m\u001b[1;33m:\u001b[0m\u001b[1;32mNone\u001b[0m\u001b[1;33m,\u001b[0m \u001b[1;34m'eye_mask'\u001b[0m\u001b[1;33m:\u001b[0m\u001b[1;32mNone\u001b[0m\u001b[1;33m,\u001b[0m \u001b[1;34m'mouth_mask'\u001b[0m\u001b[1;33m:\u001b[0m\u001b[1;32mNone\u001b[0m\u001b[1;33m}\u001b[0m\u001b[1;33m)\u001b[0m\u001b[1;33m\u001b[0m\u001b[1;33m\u001b[0m\u001b[0m\n\u001b[0;32m      2\u001b[0m \u001b[0mserializer\u001b[0m\u001b[1;33m.\u001b[0m\u001b[0mis_valid\u001b[0m\u001b[1;33m(\u001b[0m\u001b[1;33m)\u001b[0m\u001b[1;33m\u001b[0m\u001b[1;33m\u001b[0m\u001b[0m\n\u001b[1;32m----> 3\u001b[1;33m \u001b[0mprofile\u001b[0m \u001b[1;33m=\u001b[0m \u001b[0mserializer\u001b[0m\u001b[1;33m.\u001b[0m\u001b[0msave\u001b[0m\u001b[1;33m(\u001b[0m\u001b[1;33m)\u001b[0m\u001b[1;33m;\u001b[0m \u001b[0mprofile\u001b[0m\u001b[1;33m\u001b[0m\u001b[1;33m\u001b[0m\u001b[0m\n\u001b[0m",
      "\u001b[1;32m~\\Documents\\GitHub\\maskplay\\venv\\lib\\site-packages\\rest_framework\\serializers.py\u001b[0m in \u001b[0;36msave\u001b[1;34m(self, **kwargs)\u001b[0m\n\u001b[0;32m    180\u001b[0m \u001b[1;33m\u001b[0m\u001b[0m\n\u001b[0;32m    181\u001b[0m         assert not self.errors, (\n\u001b[1;32m--> 182\u001b[1;33m             \u001b[1;34m'You cannot call `.save()` on a serializer with invalid data.'\u001b[0m\u001b[1;33m\u001b[0m\u001b[1;33m\u001b[0m\u001b[0m\n\u001b[0m\u001b[0;32m    183\u001b[0m         )\n\u001b[0;32m    184\u001b[0m \u001b[1;33m\u001b[0m\u001b[0m\n",
      "\u001b[1;31mAssertionError\u001b[0m: You cannot call `.save()` on a serializer with invalid data."
     ]
    }
   ],
   "source": [
    "serializer = ProfileSerializer(data={'type':'IMAGE', 'text':'TESTTEST', 'pix':pix, 'image':None, 'eye_mask':None, 'mouth_mask':None})\n",
    "serializer.is_valid()\n",
    "profile = serializer.save(); profile"
   ]
  },
  {
   "cell_type": "code",
   "execution_count": 46,
   "metadata": {},
   "outputs": [
    {
     "data": {
      "text/plain": [
       "<ImageFieldFile: post/2020/7/22/sejin76@nate.com/2020-07-22_195937.085170__AB_anorak_B.jpg>"
      ]
     },
     "execution_count": 46,
     "metadata": {},
     "output_type": "execute_result"
    }
   ],
   "source": [
    "m.PostVoteOX.objects.all()[0].pix"
   ]
  },
  {
   "cell_type": "code",
   "execution_count": null,
   "metadata": {},
   "outputs": [],
   "source": []
  },
  {
   "cell_type": "code",
   "execution_count": null,
   "metadata": {},
   "outputs": [],
   "source": []
  },
  {
   "cell_type": "code",
   "execution_count": null,
   "metadata": {},
   "outputs": [],
   "source": []
  }
 ],
 "metadata": {
  "kernelspec": {
   "display_name": "Django Shell-Plus",
   "language": "python",
   "name": "django_extensions"
  },
  "language_info": {
   "codemirror_mode": {
    "name": "ipython",
    "version": 3
   },
   "file_extension": ".py",
   "mimetype": "text/x-python",
   "name": "python",
   "nbconvert_exporter": "python",
   "pygments_lexer": "ipython3",
   "version": "3.7.3"
  }
 },
 "nbformat": 4,
 "nbformat_minor": 4
}
