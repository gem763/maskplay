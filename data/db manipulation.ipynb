{
 "cells": [
  {
   "cell_type": "code",
   "execution_count": 1,
   "metadata": {},
   "outputs": [],
   "source": [
    "%load_ext autoreload\n",
    "%autoreload\n",
    "\n",
    "import os\n",
    "import sys\n",
    "import django\n",
    "from IPython.core.debugger import set_trace\n",
    "from pathlib import Path\n",
    "from django.core.files.base import ContentFile\n",
    "from rest_framework import serializers\n",
    "\n",
    "parentdir = os.path.abspath(os.path.join(os.getcwd(), os.pardir))\n",
    "sys.path.append(parentdir)\n",
    "django.setup()"
   ]
  },
  {
   "cell_type": "code",
   "execution_count": 2,
   "metadata": {},
   "outputs": [],
   "source": [
    "import getch.models as m"
   ]
  },
  {
   "cell_type": "code",
   "execution_count": 3,
   "metadata": {},
   "outputs": [],
   "source": [
    "#m.MaskBase.objects.all().delete()"
   ]
  },
  {
   "cell_type": "code",
   "execution_count": 3,
   "metadata": {},
   "outputs": [
    {
     "data": {
      "text/plain": [
       "<QuerySet []>"
      ]
     },
     "execution_count": 3,
     "metadata": {},
     "output_type": "execute_result"
    }
   ],
   "source": [
    "m.MaskBase.objects.all()"
   ]
  },
  {
   "cell_type": "markdown",
   "metadata": {},
   "source": [
    "# MaskBase"
   ]
  },
  {
   "cell_type": "code",
   "execution_count": 4,
   "metadata": {},
   "outputs": [],
   "source": [
    "dir_masks = Path(parentdir) / 'getch/static/materials/masks'"
   ]
  },
  {
   "cell_type": "code",
   "execution_count": 5,
   "metadata": {
    "scrolled": true
   },
   "outputs": [],
   "source": [
    "for d in dir_masks.glob('*'):\n",
    "    if d.name != 'archives':\n",
    "        _type = d.name.upper()\n",
    "        \n",
    "        for f in d.rglob('*.*'):\n",
    "            cat = f.parts[-2]\n",
    "            \n",
    "            if cat != 'raw':\n",
    "                maskbase = m.MaskBase.objects.create(type=_type, category=cat)\n",
    "                maskbase.pix.save(f.name, ContentFile(f.read_bytes()), save=True)"
   ]
  },
  {
   "cell_type": "code",
   "execution_count": null,
   "metadata": {},
   "outputs": [],
   "source": []
  },
  {
   "cell_type": "code",
   "execution_count": null,
   "metadata": {},
   "outputs": [],
   "source": []
  },
  {
   "cell_type": "markdown",
   "metadata": {},
   "source": [
    "# MaskSerializer"
   ]
  },
  {
   "cell_type": "code",
   "execution_count": 6,
   "metadata": {},
   "outputs": [
    {
     "data": {
      "text/plain": [
       "MaskSerializer():\n",
       "    id = IntegerField(read_only=True)\n",
       "    maskbase = PrimaryKeyRelatedField(queryset=MaskBase.objects.all())\n",
       "    top = FloatField(required=False)\n",
       "    left = FloatField(required=False)\n",
       "    width = FloatField(required=False)\n",
       "    height = FloatField(required=False)"
      ]
     },
     "execution_count": 6,
     "metadata": {},
     "output_type": "execute_result"
    }
   ],
   "source": [
    "class MaskSerializer(serializers.ModelSerializer):\n",
    "    class Meta:\n",
    "        model = m.Mask\n",
    "        fields = ['id', 'maskbase', 'top', 'left', 'width', 'height']\n",
    "        read_only_fields = ['id']\n",
    "        \n",
    "MaskSerializer()"
   ]
  },
  {
   "cell_type": "markdown",
   "metadata": {},
   "source": [
    "## Serializing"
   ]
  },
  {
   "cell_type": "code",
   "execution_count": 7,
   "metadata": {},
   "outputs": [
    {
     "data": {
      "text/plain": [
       "{'id': 2, 'maskbase': 14, 'top': 0.0, 'left': 0.0, 'width': 100.0, 'height': 20.0}"
      ]
     },
     "execution_count": 7,
     "metadata": {},
     "output_type": "execute_result"
    }
   ],
   "source": [
    "mask = m.Mask.objects.all()[0]\n",
    "data = MaskSerializer(mask).data; data"
   ]
  },
  {
   "cell_type": "markdown",
   "metadata": {},
   "source": [
    "## Deserializing\n",
    "### 1. Create"
   ]
  },
  {
   "cell_type": "code",
   "execution_count": 24,
   "metadata": {},
   "outputs": [
    {
     "data": {
      "text/plain": [
       "<Mask: EYE | animal | 2020-08-07_110328.890580SIDEB_EYEMASK_A_ANIMAL_02_cat.jpg | T=10.0, L=0.0, W=50.0, H=50.0>"
      ]
     },
     "execution_count": 24,
     "metadata": {},
     "output_type": "execute_result"
    }
   ],
   "source": [
    "serializer = MaskSerializer(data={'maskbase':15, 'top':10, 'left':0, 'width':50, 'height':50})\n",
    "serializer.is_valid()\n",
    "mask = serializer.save(); mask"
   ]
  },
  {
   "cell_type": "markdown",
   "metadata": {},
   "source": [
    "### 2. Update"
   ]
  },
  {
   "cell_type": "code",
   "execution_count": 25,
   "metadata": {},
   "outputs": [
    {
     "data": {
      "text/plain": [
       "<Mask: EYE | animal | 2020-08-07_110330.219042SIDEB_EYEMASK_A_ANIMAL_02_dog.jpg | T=0.0, L=0.0, W=50.0, H=50.0>"
      ]
     },
     "execution_count": 25,
     "metadata": {},
     "output_type": "execute_result"
    }
   ],
   "source": [
    "serializer = MaskSerializer(mask, data={'maskbase':16, 'top':0, 'left':0, 'width':50, 'height':50})\n",
    "serializer.is_valid()\n",
    "mask = serializer.save(); mask"
   ]
  },
  {
   "cell_type": "markdown",
   "metadata": {},
   "source": [
    "# ProfileSerializer"
   ]
  },
  {
   "cell_type": "code",
   "execution_count": 8,
   "metadata": {},
   "outputs": [
    {
     "data": {
      "text/plain": [
       "ProfileSerializer():\n",
       "    id = IntegerField(read_only=True)\n",
       "    type = ChoiceField(choices=(('IMAGE', 'image'), ('TEXT', 'text')), required=False)\n",
       "    pix = ImageField(max_length=500)\n",
       "    image = ImageField(allow_null=True, max_length=500, required=False)\n",
       "    text = CharField(allow_blank=True, allow_null=True, max_length=10, required=False)\n",
       "    eye_mask = MaskSerializer(required=False):\n",
       "        id = IntegerField(read_only=True)\n",
       "        maskbase = PrimaryKeyRelatedField(queryset=MaskBase.objects.all())\n",
       "        top = FloatField(required=False)\n",
       "        left = FloatField(required=False)\n",
       "        width = FloatField(required=False)\n",
       "        height = FloatField(required=False)\n",
       "    mouth_mask = MaskSerializer(required=False):\n",
       "        id = IntegerField(read_only=True)\n",
       "        maskbase = PrimaryKeyRelatedField(queryset=MaskBase.objects.all())\n",
       "        top = FloatField(required=False)\n",
       "        left = FloatField(required=False)\n",
       "        width = FloatField(required=False)\n",
       "        height = FloatField(required=False)"
      ]
     },
     "execution_count": 8,
     "metadata": {},
     "output_type": "execute_result"
    }
   ],
   "source": [
    "class ProfileSerializer(serializers.ModelSerializer):\n",
    "    eye_mask = MaskSerializer(required=False)\n",
    "    mouth_mask = MaskSerializer(required=False)\n",
    "\n",
    "    class Meta:\n",
    "        model = m.Profile\n",
    "        fields = ['id', 'type', 'pix', 'image', 'text', 'eye_mask', 'mouth_mask']\n",
    "        read_only_fields = ['id']\n",
    "        \n",
    "ProfileSerializer()"
   ]
  },
  {
   "cell_type": "markdown",
   "metadata": {},
   "source": [
    "## Serializing"
   ]
  },
  {
   "cell_type": "code",
   "execution_count": 14,
   "metadata": {},
   "outputs": [
    {
     "data": {
      "text/plain": [
       "{'id': 8, 'type': 'IMAGE', 'pix': 'https://storage.googleapis.com/sideb-proejct.appspot.com/user/gem763%40gmail.com/2020-08-04_134305.193770__killyou.gif?Expires=1597127094&GoogleAccessId=sideb-serviceaccount%40sideb-proejct.iam.gserviceaccount.com&Signature=R4AlbT3eCphmIbVR1Vc4EBaD779rlAeqCHACK2CmHLSTiK6wWYM8tth8n4kmRhnt3ndRv%2Bn78N%2B304ezDG%2BiimpiYR3SOtSzXT%2FLttzRomu6d94coa1WRjgxgNLu%2BJ%2F7EDWnX8RagxLaAxtPCY%2BKf6AN59VN6%2BEY0YtARjcvNoSR2upvF0genDVNKJEZzfosC3AVZZeq%2BoB0xwWiR9tCVlvoshYgZIiZ%2B5QO%2B4TaKPJs55DkYZp%2BGHPWPDiW4Bi1XgYCtqOFMSy%2FKyeGa8sN25M72JwewucrbD7YarkXX3EZNxdhfnqSzqW3yv6D0BU6pTclPF1OhyYyebQO9iTZvw%3D%3D', 'image': None, 'text': None, 'eye_mask': OrderedDict([('id', 2), ('maskbase', 14), ('top', 0.0), ('left', 0.0), ('width', 100.0), ('height', 20.0)]), 'mouth_mask': None}"
      ]
     },
     "execution_count": 14,
     "metadata": {},
     "output_type": "execute_result"
    }
   ],
   "source": [
    "profile = m.Profile.objects.last()\n",
    "data = ProfileSerializer(profile).data; data"
   ]
  },
  {
   "cell_type": "markdown",
   "metadata": {},
   "source": [
    "## Deserializing\n",
    "### 1. create"
   ]
  },
  {
   "cell_type": "code",
   "execution_count": 15,
   "metadata": {},
   "outputs": [
    {
     "data": {
      "text/plain": [
       "<ImageFieldFile: post/2020/7/22/sejin76@nate.com/2020-07-22_195937.085170__AB_anorak_B.jpg>"
      ]
     },
     "execution_count": 15,
     "metadata": {},
     "output_type": "execute_result"
    }
   ],
   "source": [
    "pix = m.PostVoteOX.objects.all()[0].pix; pix"
   ]
  },
  {
   "cell_type": "code",
   "execution_count": 17,
   "metadata": {},
   "outputs": [
    {
     "data": {
      "text/plain": [
       "False"
      ]
     },
     "execution_count": 17,
     "metadata": {},
     "output_type": "execute_result"
    }
   ],
   "source": [
    "serializer = ProfileSerializer(data={'type':'IMAGE', 'text':'TESTTEST', 'pix':None, 'image':None, 'eye_mask':None, 'mouth_mask':None})\n",
    "serializer.is_valid()\n",
    "# profile = serializer.save(); profile"
   ]
  },
  {
   "cell_type": "code",
   "execution_count": 19,
   "metadata": {},
   "outputs": [
    {
     "data": {
      "text/plain": [
       "{}"
      ]
     },
     "execution_count": 19,
     "metadata": {},
     "output_type": "execute_result"
    }
   ],
   "source": [
    "serializer.validated_data"
   ]
  },
  {
   "cell_type": "code",
   "execution_count": null,
   "metadata": {},
   "outputs": [],
   "source": []
  },
  {
   "cell_type": "code",
   "execution_count": null,
   "metadata": {},
   "outputs": [],
   "source": []
  },
  {
   "cell_type": "code",
   "execution_count": 9,
   "metadata": {},
   "outputs": [
    {
     "data": {
      "text/plain": [
       "'user/test/2020-08-10_181145.027962__einstein.jpg'"
      ]
     },
     "execution_count": 9,
     "metadata": {},
     "output_type": "execute_result"
    }
   ],
   "source": [
    "_pix = m.Profile.objects.first().pix; _pix.name"
   ]
  },
  {
   "cell_type": "code",
   "execution_count": 10,
   "metadata": {},
   "outputs": [
    {
     "data": {
      "text/plain": [
       "<Profile: 8>"
      ]
     },
     "execution_count": 10,
     "metadata": {},
     "output_type": "execute_result"
    }
   ],
   "source": [
    "profile = m.Profile.objects.create(pix=_pix); profile"
   ]
  },
  {
   "cell_type": "code",
   "execution_count": null,
   "metadata": {},
   "outputs": [],
   "source": []
  }
 ],
 "metadata": {
  "kernelspec": {
   "display_name": "Django Shell-Plus",
   "language": "python",
   "name": "django_extensions"
  },
  "language_info": {
   "codemirror_mode": {
    "name": "ipython",
    "version": 3
   },
   "file_extension": ".py",
   "mimetype": "text/x-python",
   "name": "python",
   "nbconvert_exporter": "python",
   "pygments_lexer": "ipython3",
   "version": "3.7.3"
  }
 },
 "nbformat": 4,
 "nbformat_minor": 4
}
