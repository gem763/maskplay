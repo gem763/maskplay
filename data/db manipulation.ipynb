{
 "cells": [
  {
   "cell_type": "code",
   "execution_count": 1,
   "metadata": {},
   "outputs": [],
   "source": [
    "%load_ext autoreload\n",
    "%autoreload\n",
    "\n",
    "import os\n",
    "import sys\n",
    "import django\n",
    "from IPython.core.debugger import set_trace\n",
    "from pathlib import Path\n",
    "from django.core.files.base import ContentFile\n",
    "from rest_framework import serializers\n",
    "\n",
    "parentdir = os.path.abspath(os.path.join(os.getcwd(), os.pardir))\n",
    "sys.path.append(parentdir)\n",
    "django.setup()\n",
    "\n",
    "import getch.models as m\n",
    "from django.apps import apps\n",
    "from django_currentuser.middleware import get_current_user"
   ]
  },
  {
   "cell_type": "markdown",
   "metadata": {},
   "source": [
    "# MaskBase"
   ]
  },
  {
   "cell_type": "code",
   "execution_count": 2,
   "metadata": {},
   "outputs": [
    {
     "data": {
      "text/plain": [
       "<QuerySet []>"
      ]
     },
     "execution_count": 2,
     "metadata": {},
     "output_type": "execute_result"
    }
   ],
   "source": [
    "#m.MaskBase.objects.all().delete()\n",
    "m.MaskBase.objects.all()"
   ]
  },
  {
   "cell_type": "code",
   "execution_count": 3,
   "metadata": {},
   "outputs": [],
   "source": [
    "dir_masks = Path(parentdir) / 'getch/static/materials/masks'"
   ]
  },
  {
   "cell_type": "code",
   "execution_count": 4,
   "metadata": {
    "scrolled": true
   },
   "outputs": [],
   "source": [
    "for d in dir_masks.glob('*'):\n",
    "    if d.name != 'archives':\n",
    "        _type = d.name.upper()\n",
    "        \n",
    "        for f in d.rglob('*.*'):\n",
    "            cat = f.parts[-2]\n",
    "            \n",
    "            if cat != 'raw':\n",
    "                maskbase = m.MaskBase.objects.create(type=_type, category=cat)\n",
    "                maskbase.pix.save(f.name, ContentFile(f.read_bytes()), save=True)"
   ]
  },
  {
   "cell_type": "code",
   "execution_count": null,
   "metadata": {},
   "outputs": [],
   "source": []
  },
  {
   "cell_type": "code",
   "execution_count": null,
   "metadata": {},
   "outputs": [],
   "source": []
  },
  {
   "cell_type": "markdown",
   "metadata": {},
   "source": [
    "# MaskSerializer"
   ]
  },
  {
   "cell_type": "code",
   "execution_count": 7,
   "metadata": {},
   "outputs": [
    {
     "data": {
      "text/plain": [
       "EyeMaskSerializer():\n",
       "    id = IntegerField(read_only=True)\n",
       "    maskbase = PrimaryKeyRelatedField(queryset=MaskBase.objects.all(), required=False)\n",
       "    top = FloatField(required=False)\n",
       "    left = FloatField(required=False)\n",
       "    width = FloatField(required=False)\n",
       "    height = FloatField(required=False)"
      ]
     },
     "execution_count": 7,
     "metadata": {},
     "output_type": "execute_result"
    }
   ],
   "source": [
    "class EyeMaskSerializer(serializers.ModelSerializer):\n",
    "    class Meta:\n",
    "        model = m.EyeMask\n",
    "        fields = ['id', 'maskbase', 'top', 'left', 'width', 'height']\n",
    "        read_only_fields = ['id']\n",
    "        \n",
    "class MouthMaskSerializer(serializers.ModelSerializer):\n",
    "    class Meta:\n",
    "        model = m.MouthMask\n",
    "        fields = ['id', 'maskbase', 'top', 'left', 'width', 'height']\n",
    "        read_only_fields = ['id']        \n",
    "        \n",
    "EyeMaskSerializer()"
   ]
  },
  {
   "cell_type": "markdown",
   "metadata": {},
   "source": [
    "## Serializing"
   ]
  },
  {
   "cell_type": "code",
   "execution_count": 8,
   "metadata": {},
   "outputs": [
    {
     "data": {
      "text/plain": [
       "{'id': 1, 'maskbase': 1, 'top': 0.0, 'left': 0.0, 'width': 100.0, 'height': 20.0}"
      ]
     },
     "execution_count": 8,
     "metadata": {},
     "output_type": "execute_result"
    }
   ],
   "source": [
    "eyemask = m.EyeMask.objects.first()\n",
    "data = EyeMaskSerializer(eyemask).data; data"
   ]
  },
  {
   "cell_type": "markdown",
   "metadata": {},
   "source": [
    "## Deserializing\n",
    "### 1. Create\n",
    "* serializer로 creation 하지 않는다\n",
    "* profile 생성할때 mask(1-1관계)는 default로 무조건 같이 생성되며, 이때 Mask.objects.create()를 쓴다"
   ]
  },
  {
   "cell_type": "code",
   "execution_count": 2,
   "metadata": {},
   "outputs": [],
   "source": [
    "eyemask = m.EyeMask.objects.create(); eyemask;"
   ]
  },
  {
   "cell_type": "code",
   "execution_count": 9,
   "metadata": {},
   "outputs": [],
   "source": [
    "# serializer = MaskSerializer(data={'maskbase':15, 'top':10, 'left':0, 'width':50, 'height':50})\n",
    "# serializer.is_valid()\n",
    "# mask = serializer.save(); mask"
   ]
  },
  {
   "cell_type": "markdown",
   "metadata": {},
   "source": [
    "### 2. Update"
   ]
  },
  {
   "cell_type": "code",
   "execution_count": 12,
   "metadata": {},
   "outputs": [
    {
     "data": {
      "text/plain": [
       "<EyeMask: EYE | cartoon_m | 2020-08-11_095158.942119SIDEB_EYEMASK_M_CARTOON_05_onepunman.jpg | T=10.0, L=0.0, W=50.0, H=50.0>"
      ]
     },
     "execution_count": 12,
     "metadata": {},
     "output_type": "execute_result"
    }
   ],
   "source": [
    "serializer = EyeMaskSerializer(eyemask, data={'maskbase':15, 'top':10, 'left':0, 'width':50, 'height':50})\n",
    "serializer.is_valid()\n",
    "eyemask = serializer.save(); eyemask"
   ]
  },
  {
   "cell_type": "code",
   "execution_count": null,
   "metadata": {},
   "outputs": [],
   "source": []
  },
  {
   "cell_type": "markdown",
   "metadata": {},
   "source": [
    "# ProfileSerializer"
   ]
  },
  {
   "cell_type": "code",
   "execution_count": 8,
   "metadata": {},
   "outputs": [
    {
     "data": {
      "text/plain": [
       "ProfileSerializer():\n",
       "    id = IntegerField(read_only=True)\n",
       "    type = ChoiceField(choices=(('IMAGE', 'image'), ('TEXT', 'text')), required=False)\n",
       "    pix = ImageField(max_length=500)\n",
       "    image = ImageField(allow_null=True, max_length=500, required=False)\n",
       "    text = CharField(allow_blank=True, allow_null=True, max_length=10, required=False)\n",
       "    eye_mask = MaskSerializer(required=False):\n",
       "        id = IntegerField(read_only=True)\n",
       "        maskbase = PrimaryKeyRelatedField(queryset=MaskBase.objects.all())\n",
       "        top = FloatField(required=False)\n",
       "        left = FloatField(required=False)\n",
       "        width = FloatField(required=False)\n",
       "        height = FloatField(required=False)\n",
       "    mouth_mask = MaskSerializer(required=False):\n",
       "        id = IntegerField(read_only=True)\n",
       "        maskbase = PrimaryKeyRelatedField(queryset=MaskBase.objects.all())\n",
       "        top = FloatField(required=False)\n",
       "        left = FloatField(required=False)\n",
       "        width = FloatField(required=False)\n",
       "        height = FloatField(required=False)"
      ]
     },
     "execution_count": 8,
     "metadata": {},
     "output_type": "execute_result"
    }
   ],
   "source": [
    "class ProfileSerializer(serializers.ModelSerializer):\n",
    "    eye_mask = MaskSerializer(required=False)\n",
    "    mouth_mask = MaskSerializer(required=False)\n",
    "\n",
    "    class Meta:\n",
    "        model = m.Profile\n",
    "        fields = ['id', 'type', 'pix', 'image', 'text', 'eye_mask', 'mouth_mask']\n",
    "        read_only_fields = ['id']\n",
    "        \n",
    "ProfileSerializer()"
   ]
  },
  {
   "cell_type": "markdown",
   "metadata": {},
   "source": [
    "## Serializing"
   ]
  },
  {
   "cell_type": "code",
   "execution_count": 14,
   "metadata": {},
   "outputs": [
    {
     "data": {
      "text/plain": [
       "{'id': 8, 'type': 'IMAGE', 'pix': 'https://storage.googleapis.com/sideb-proejct.appspot.com/user/gem763%40gmail.com/2020-08-04_134305.193770__killyou.gif?Expires=1597127094&GoogleAccessId=sideb-serviceaccount%40sideb-proejct.iam.gserviceaccount.com&Signature=R4AlbT3eCphmIbVR1Vc4EBaD779rlAeqCHACK2CmHLSTiK6wWYM8tth8n4kmRhnt3ndRv%2Bn78N%2B304ezDG%2BiimpiYR3SOtSzXT%2FLttzRomu6d94coa1WRjgxgNLu%2BJ%2F7EDWnX8RagxLaAxtPCY%2BKf6AN59VN6%2BEY0YtARjcvNoSR2upvF0genDVNKJEZzfosC3AVZZeq%2BoB0xwWiR9tCVlvoshYgZIiZ%2B5QO%2B4TaKPJs55DkYZp%2BGHPWPDiW4Bi1XgYCtqOFMSy%2FKyeGa8sN25M72JwewucrbD7YarkXX3EZNxdhfnqSzqW3yv6D0BU6pTclPF1OhyYyebQO9iTZvw%3D%3D', 'image': None, 'text': None, 'eye_mask': OrderedDict([('id', 2), ('maskbase', 14), ('top', 0.0), ('left', 0.0), ('width', 100.0), ('height', 20.0)]), 'mouth_mask': None}"
      ]
     },
     "execution_count": 14,
     "metadata": {},
     "output_type": "execute_result"
    }
   ],
   "source": [
    "profile = m.Profile.objects.last()\n",
    "data = ProfileSerializer(profile).data; data"
   ]
  },
  {
   "cell_type": "markdown",
   "metadata": {},
   "source": [
    "## Deserializing\n",
    "### 1. create"
   ]
  },
  {
   "cell_type": "code",
   "execution_count": 15,
   "metadata": {},
   "outputs": [
    {
     "data": {
      "text/plain": [
       "<ImageFieldFile: post/2020/7/22/sejin76@nate.com/2020-07-22_195937.085170__AB_anorak_B.jpg>"
      ]
     },
     "execution_count": 15,
     "metadata": {},
     "output_type": "execute_result"
    }
   ],
   "source": [
    "pix = m.PostVoteOX.objects.all()[0].pix; pix"
   ]
  },
  {
   "cell_type": "code",
   "execution_count": 17,
   "metadata": {},
   "outputs": [
    {
     "data": {
      "text/plain": [
       "False"
      ]
     },
     "execution_count": 17,
     "metadata": {},
     "output_type": "execute_result"
    }
   ],
   "source": [
    "serializer = ProfileSerializer(data={'type':'IMAGE', 'text':'TESTTEST', 'pix':None, 'image':None, 'eye_mask':None, 'mouth_mask':None})\n",
    "serializer.is_valid()\n",
    "# profile = serializer.save(); profile"
   ]
  },
  {
   "cell_type": "code",
   "execution_count": 19,
   "metadata": {},
   "outputs": [
    {
     "data": {
      "text/plain": [
       "{}"
      ]
     },
     "execution_count": 19,
     "metadata": {},
     "output_type": "execute_result"
    }
   ],
   "source": [
    "serializer.validated_data"
   ]
  },
  {
   "cell_type": "code",
   "execution_count": null,
   "metadata": {},
   "outputs": [],
   "source": []
  },
  {
   "cell_type": "code",
   "execution_count": 2,
   "metadata": {},
   "outputs": [],
   "source": [
    "profile = m.Profile.objects.create()"
   ]
  },
  {
   "cell_type": "code",
   "execution_count": 4,
   "metadata": {},
   "outputs": [
    {
     "data": {
      "text/plain": [
       "<ImageFieldFile: material/profile.png>"
      ]
     },
     "execution_count": 4,
     "metadata": {},
     "output_type": "execute_result"
    }
   ],
   "source": [
    "profile.pix"
   ]
  },
  {
   "cell_type": "code",
   "execution_count": null,
   "metadata": {},
   "outputs": [],
   "source": []
  },
  {
   "cell_type": "code",
   "execution_count": null,
   "metadata": {},
   "outputs": [],
   "source": []
  },
  {
   "cell_type": "code",
   "execution_count": 2,
   "metadata": {},
   "outputs": [
    {
     "data": {
      "text/plain": [
       "<Boo: sideb | sideb@sideb.com>"
      ]
     },
     "execution_count": 2,
     "metadata": {},
     "output_type": "execute_result"
    }
   ],
   "source": [
    "user = m.User.objects.get(pk=1)\n",
    "m.Boo.objects.create(user=user)"
   ]
  },
  {
   "cell_type": "code",
   "execution_count": null,
   "metadata": {},
   "outputs": [],
   "source": []
  },
  {
   "cell_type": "code",
   "execution_count": null,
   "metadata": {},
   "outputs": [],
   "source": []
  },
  {
   "cell_type": "markdown",
   "metadata": {},
   "source": [
    "# PostSerializer"
   ]
  },
  {
   "cell_type": "code",
   "execution_count": 2,
   "metadata": {},
   "outputs": [
    {
     "data": {
      "text/plain": [
       "PostSerializer():\n",
       "    id = IntegerField(read_only=True)\n",
       "    text = CharField(allow_blank=True, allow_null=True, max_length=500, required=False, style={'base_template': 'textarea.html'})\n",
       "    created_at = DateTimeField(read_only=True)\n",
       "    boo = PrimaryKeyRelatedField(allow_null=True, queryset=Boo.objects.all(), required=False)"
      ]
     },
     "execution_count": 2,
     "metadata": {},
     "output_type": "execute_result"
    }
   ],
   "source": [
    "class PostVoteOXSerializer(serializers.ModelSerializer):\n",
    "    class Meta:\n",
    "        model = m.PostVoteOX\n",
    "        fields = ['id', 'boo', 'text', 'pix']\n",
    "        read_only_fields = ['id']\n",
    "        \n",
    "class PostVoteABSerializer(serializers.ModelSerializer):\n",
    "    class Meta:\n",
    "        model = m.PostVoteAB\n",
    "        fields = ['id', 'boo', 'text', 'pix_a', 'pix_b']\n",
    "        read_only_fields = ['id']\n",
    "    \n",
    "class PostSerializer(serializers.ModelSerializer):\n",
    "    class Meta:\n",
    "        model = m.Post\n",
    "        fields = '__all__'\n",
    "        \n",
    "    def to_representation(self, instance):\n",
    "        if isinstance(instance, m.PostVoteOX):\n",
    "            return PostVoteOXSerializer(instance=instance).data\n",
    "        \n",
    "        elif isinstance(instance, m.PostVoteAB):\n",
    "            return PostVoteABSerializer(instance=instance).data\n",
    "        \n",
    "    def create(self, validated_data):\n",
    "        _type = validated_data.pop('type')\n",
    "        \n",
    "        postmodel = apps.get_model(app_label='getch', model_name=_type)\n",
    "        return postmodel.objects.create(**validated_data)       \n",
    "    \n",
    "            \n",
    "PostVoteOXSerializer()\n",
    "PostSerializer()"
   ]
  },
  {
   "cell_type": "markdown",
   "metadata": {},
   "source": [
    "## Serializing"
   ]
  },
  {
   "cell_type": "code",
   "execution_count": 3,
   "metadata": {
    "scrolled": true
   },
   "outputs": [
    {
     "data": {
      "text/plain": [
       "{'id': 12, 'boo': 14, 'text': '구매예정', 'pix': 'https://storage.googleapis.com/sideb-proejct.appspot.com/post/2020/8/13/sejin76%40nate.com/2020-08-13_172307.570023__shoeA.jpg?Expires=1597909838&GoogleAccessId=sideb-serviceaccount%40sideb-proejct.iam.gserviceaccount.com&Signature=VW2svxky2v%2BfnYyoQbwtxqjS5B3o%2FrgV8BKkhOFtLwSGV3tPv4LQ%2BSPVdVsNhj4td2dYINlXcili5Rjx1xZtruaQN09YMAy127c7uEec7lekQj1Wbgwc6YxmV4UYS%2FIoMOSSykY54W762%2BUECi48PpKeg0nym7O47D%2FOrhb3fA7FKb5oGeWQItSbbGk%2BVWHZ5rWXNghIBRv2Uqzat9FdIpfLj3YCpa8TIIVUVOdNGhAJnDWCQwDPT9vCQDX9tqTtdPU%2ByvOOMPzBb2x6tKsUbUyqzCgqcWZi0OtpGYzDZyMw2KUirou18BezVI8wPTVXcsb3emgqDzcrlqzwWETPDg%3D%3D'}"
      ]
     },
     "execution_count": 3,
     "metadata": {},
     "output_type": "execute_result"
    }
   ],
   "source": [
    "posts = m.Post.objects.select_subclasses()\n",
    "data = PostSerializer(posts, many=True).data; data[6]"
   ]
  },
  {
   "cell_type": "code",
   "execution_count": 4,
   "metadata": {},
   "outputs": [
    {
     "data": {
      "text/plain": [
       "<ImageFieldFile: post/2020/8/12/sideb@sideb.com/2020-08-12_181653.835216__sideb_logo.jpg>"
      ]
     },
     "execution_count": 4,
     "metadata": {},
     "output_type": "execute_result"
    }
   ],
   "source": [
    "posts[0].pix"
   ]
  },
  {
   "cell_type": "markdown",
   "metadata": {},
   "source": [
    "## Deserializing\n",
    "### 1. Create"
   ]
  },
  {
   "cell_type": "code",
   "execution_count": 9,
   "metadata": {},
   "outputs": [
    {
     "data": {
      "text/plain": [
       "<PostVoteOX: OX | >"
      ]
     },
     "execution_count": 9,
     "metadata": {},
     "output_type": "execute_result"
    }
   ],
   "source": [
    "ser = PostVoteOXSerializer(data={'boo':15, 'text':'이건멀까나#고군분투', 'pix':posts[0].pix})\n",
    "ser.is_valid()\n",
    "post = ser.save(); post"
   ]
  },
  {
   "cell_type": "code",
   "execution_count": 5,
   "metadata": {},
   "outputs": [
    {
     "data": {
      "text/plain": [
       "True"
      ]
     },
     "execution_count": 5,
     "metadata": {},
     "output_type": "execute_result"
    }
   ],
   "source": [
    "ser = PostSerializer(data={'text':'이건멀까나#고군분투', 'pix':posts[0].pix})\n",
    "ser.is_valid()\n",
    "# post = ser.save(); post"
   ]
  },
  {
   "cell_type": "code",
   "execution_count": 10,
   "metadata": {},
   "outputs": [
    {
     "data": {
      "text/plain": [
       "{'type': 'postvoteox',\n",
       " 'text': '이건멀까나#고군분투',\n",
       " 'pix': <ImageFieldFile: post/2020/8/12/sideb@sideb.com/2020-08-12_181653.835216__sideb_logo.jpg>}"
      ]
     },
     "execution_count": 10,
     "metadata": {},
     "output_type": "execute_result"
    }
   ],
   "source": [
    "ser.initial_data"
   ]
  },
  {
   "cell_type": "markdown",
   "metadata": {},
   "source": [
    "### 2. Update"
   ]
  },
  {
   "cell_type": "code",
   "execution_count": 11,
   "metadata": {},
   "outputs": [
    {
     "data": {
      "text/plain": [
       "<PostVoteOX: OX | >"
      ]
     },
     "execution_count": 11,
     "metadata": {},
     "output_type": "execute_result"
    }
   ],
   "source": [
    "ser = PostVoteOXSerializer(post, data={'boo':15, 'text':'자나깨나뽕#고군분투'}, partial=True)\n",
    "ser.is_valid()\n",
    "post = ser.save(); post"
   ]
  },
  {
   "cell_type": "code",
   "execution_count": 12,
   "metadata": {},
   "outputs": [
    {
     "data": {
      "text/plain": [
       "OrderedDict([('boo', <Boo: 모지리왕# | sejin76@nate.com>), ('text', '자나깨나뽕#고군분투')])"
      ]
     },
     "execution_count": 12,
     "metadata": {},
     "output_type": "execute_result"
    }
   ],
   "source": [
    "ser.validated_data"
   ]
  },
  {
   "cell_type": "code",
   "execution_count": null,
   "metadata": {},
   "outputs": [],
   "source": []
  },
  {
   "cell_type": "code",
   "execution_count": null,
   "metadata": {},
   "outputs": [],
   "source": []
  },
  {
   "cell_type": "code",
   "execution_count": null,
   "metadata": {},
   "outputs": [],
   "source": []
  }
 ],
 "metadata": {
  "kernelspec": {
   "display_name": "Django Shell-Plus",
   "language": "python",
   "name": "django_extensions"
  },
  "language_info": {
   "codemirror_mode": {
    "name": "ipython",
    "version": 3
   },
   "file_extension": ".py",
   "mimetype": "text/x-python",
   "name": "python",
   "nbconvert_exporter": "python",
   "pygments_lexer": "ipython3",
   "version": "3.7.3"
  }
 },
 "nbformat": 4,
 "nbformat_minor": 4
}
