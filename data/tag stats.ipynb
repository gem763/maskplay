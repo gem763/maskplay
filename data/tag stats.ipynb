{
 "cells": [
  {
   "cell_type": "code",
   "execution_count": 10,
   "metadata": {},
   "outputs": [
    {
     "name": "stdout",
     "output_type": "stream",
     "text": [
      "The autoreload extension is already loaded. To reload it, use:\n",
      "  %reload_ext autoreload\n"
     ]
    }
   ],
   "source": [
    "%load_ext autoreload\n",
    "%autoreload\n",
    "%matplotlib inline\n",
    "\n",
    "import io\n",
    "import os\n",
    "import sys\n",
    "import django\n",
    "import glob\n",
    "import json\n",
    "import re\n",
    "import requests\n",
    "import pandas as pd\n",
    "from IPython.core.debugger import set_trace\n",
    "from pathlib import Path\n",
    "from django.core.files.base import ContentFile\n",
    "from rest_framework import serializers\n",
    "from tqdm.notebook import tqdm\n",
    "from PIL import Image, ImageSequence\n",
    "\n",
    "parentdir = os.path.abspath(os.path.join(os.getcwd(), os.pardir))\n",
    "sys.path.append(parentdir)\n",
    "django.setup()\n",
    "\n",
    "import getch.models as m\n",
    "import matplotlib.pyplot as plt\n",
    "\n",
    "plt.rc('font', family='AppleGothic') #맥\n",
    "plt.rcParams['axes.unicode_minus'] = False #한글 폰트 사용시 마이너스 폰트 깨짐 해결"
   ]
  },
  {
   "cell_type": "code",
   "execution_count": 2,
   "metadata": {},
   "outputs": [],
   "source": [
    "tags = m.Tag.objects.values()"
   ]
  },
  {
   "cell_type": "code",
   "execution_count": 3,
   "metadata": {},
   "outputs": [
    {
     "data": {
      "text/html": [
       "<div>\n",
       "<style scoped>\n",
       "    .dataframe tbody tr th:only-of-type {\n",
       "        vertical-align: middle;\n",
       "    }\n",
       "\n",
       "    .dataframe tbody tr th {\n",
       "        vertical-align: top;\n",
       "    }\n",
       "\n",
       "    .dataframe thead th {\n",
       "        text-align: right;\n",
       "    }\n",
       "</style>\n",
       "<table border=\"1\" class=\"dataframe\">\n",
       "  <thead>\n",
       "    <tr style=\"text-align: right;\">\n",
       "      <th></th>\n",
       "      <th>type</th>\n",
       "      <th>category</th>\n",
       "      <th>item</th>\n",
       "      <th>color</th>\n",
       "      <th>detail</th>\n",
       "      <th>pattern</th>\n",
       "      <th>texture</th>\n",
       "      <th>look</th>\n",
       "      <th>length</th>\n",
       "      <th>sleeve_length</th>\n",
       "      <th>...</th>\n",
       "      <th>fit</th>\n",
       "      <th>shape</th>\n",
       "      <th>heel_height</th>\n",
       "      <th>heel_shape</th>\n",
       "      <th>toe_type</th>\n",
       "      <th>sole_type</th>\n",
       "      <th>strap</th>\n",
       "      <th>size</th>\n",
       "      <th>main_material</th>\n",
       "      <th>sub_material</th>\n",
       "    </tr>\n",
       "  </thead>\n",
       "  <tbody>\n",
       "    <tr>\n",
       "      <th>0</th>\n",
       "      <td>clothing</td>\n",
       "      <td>탑</td>\n",
       "      <td>탱크탑</td>\n",
       "      <td>그레이</td>\n",
       "      <td>None</td>\n",
       "      <td>무지</td>\n",
       "      <td>면</td>\n",
       "      <td>히피</td>\n",
       "      <td>크롭</td>\n",
       "      <td>민소매</td>\n",
       "      <td>...</td>\n",
       "      <td>타이트</td>\n",
       "      <td>None</td>\n",
       "      <td>None</td>\n",
       "      <td>None</td>\n",
       "      <td>None</td>\n",
       "      <td>None</td>\n",
       "      <td>False</td>\n",
       "      <td>None</td>\n",
       "      <td>None</td>\n",
       "      <td>None</td>\n",
       "    </tr>\n",
       "    <tr>\n",
       "      <th>1</th>\n",
       "      <td>clothing</td>\n",
       "      <td>청바지</td>\n",
       "      <td>청바지</td>\n",
       "      <td>블루</td>\n",
       "      <td>포켓</td>\n",
       "      <td>무지</td>\n",
       "      <td>데님</td>\n",
       "      <td>캐주얼</td>\n",
       "      <td>롱</td>\n",
       "      <td>None</td>\n",
       "      <td>...</td>\n",
       "      <td>노멀</td>\n",
       "      <td>스트레이트</td>\n",
       "      <td>None</td>\n",
       "      <td>None</td>\n",
       "      <td>None</td>\n",
       "      <td>None</td>\n",
       "      <td>False</td>\n",
       "      <td>None</td>\n",
       "      <td>None</td>\n",
       "      <td>None</td>\n",
       "    </tr>\n",
       "    <tr>\n",
       "      <th>2</th>\n",
       "      <td>clothing</td>\n",
       "      <td>캐주얼상의</td>\n",
       "      <td>티셔츠</td>\n",
       "      <td>스카이블루</td>\n",
       "      <td>None</td>\n",
       "      <td>무지</td>\n",
       "      <td>니트</td>\n",
       "      <td>캐주얼</td>\n",
       "      <td>노멀</td>\n",
       "      <td>반팔</td>\n",
       "      <td>...</td>\n",
       "      <td>노멀</td>\n",
       "      <td>None</td>\n",
       "      <td>None</td>\n",
       "      <td>None</td>\n",
       "      <td>None</td>\n",
       "      <td>None</td>\n",
       "      <td>False</td>\n",
       "      <td>None</td>\n",
       "      <td>None</td>\n",
       "      <td>None</td>\n",
       "    </tr>\n",
       "    <tr>\n",
       "      <th>3</th>\n",
       "      <td>clothing</td>\n",
       "      <td>스커트</td>\n",
       "      <td>스커트</td>\n",
       "      <td>네이비</td>\n",
       "      <td>스트랩</td>\n",
       "      <td>무지</td>\n",
       "      <td>합성섬유</td>\n",
       "      <td>캐주얼</td>\n",
       "      <td>롱</td>\n",
       "      <td>None</td>\n",
       "      <td>...</td>\n",
       "      <td>None</td>\n",
       "      <td>H라인</td>\n",
       "      <td>None</td>\n",
       "      <td>None</td>\n",
       "      <td>None</td>\n",
       "      <td>None</td>\n",
       "      <td>False</td>\n",
       "      <td>None</td>\n",
       "      <td>None</td>\n",
       "      <td>None</td>\n",
       "    </tr>\n",
       "    <tr>\n",
       "      <th>4</th>\n",
       "      <td>shoes</td>\n",
       "      <td>운동화</td>\n",
       "      <td>슬립온</td>\n",
       "      <td>블랙</td>\n",
       "      <td>레이스업</td>\n",
       "      <td>무지</td>\n",
       "      <td>가죽</td>\n",
       "      <td>None</td>\n",
       "      <td>None</td>\n",
       "      <td>None</td>\n",
       "      <td>...</td>\n",
       "      <td>None</td>\n",
       "      <td>None</td>\n",
       "      <td>플랫</td>\n",
       "      <td>None</td>\n",
       "      <td>라운드토</td>\n",
       "      <td>플랫폼</td>\n",
       "      <td>False</td>\n",
       "      <td>None</td>\n",
       "      <td>None</td>\n",
       "      <td>None</td>\n",
       "    </tr>\n",
       "    <tr>\n",
       "      <th>...</th>\n",
       "      <td>...</td>\n",
       "      <td>...</td>\n",
       "      <td>...</td>\n",
       "      <td>...</td>\n",
       "      <td>...</td>\n",
       "      <td>...</td>\n",
       "      <td>...</td>\n",
       "      <td>...</td>\n",
       "      <td>...</td>\n",
       "      <td>...</td>\n",
       "      <td>...</td>\n",
       "      <td>...</td>\n",
       "      <td>...</td>\n",
       "      <td>...</td>\n",
       "      <td>...</td>\n",
       "      <td>...</td>\n",
       "      <td>...</td>\n",
       "      <td>...</td>\n",
       "      <td>...</td>\n",
       "      <td>...</td>\n",
       "      <td>...</td>\n",
       "    </tr>\n",
       "    <tr>\n",
       "      <th>5432</th>\n",
       "      <td>shoes</td>\n",
       "      <td>운동화</td>\n",
       "      <td>런닝화</td>\n",
       "      <td>블랙</td>\n",
       "      <td>레이스업</td>\n",
       "      <td>로고</td>\n",
       "      <td>스웨이드</td>\n",
       "      <td>None</td>\n",
       "      <td>None</td>\n",
       "      <td>None</td>\n",
       "      <td>...</td>\n",
       "      <td>None</td>\n",
       "      <td>None</td>\n",
       "      <td>플랫</td>\n",
       "      <td>None</td>\n",
       "      <td>라운드토</td>\n",
       "      <td>플랫폼</td>\n",
       "      <td>False</td>\n",
       "      <td>None</td>\n",
       "      <td>None</td>\n",
       "      <td>None</td>\n",
       "    </tr>\n",
       "    <tr>\n",
       "      <th>5433</th>\n",
       "      <td>clothing</td>\n",
       "      <td>재킷</td>\n",
       "      <td>트럭커</td>\n",
       "      <td>베이지</td>\n",
       "      <td>포켓</td>\n",
       "      <td>무지</td>\n",
       "      <td>면</td>\n",
       "      <td>캐주얼</td>\n",
       "      <td>노멀</td>\n",
       "      <td>긴팔</td>\n",
       "      <td>...</td>\n",
       "      <td>노멀</td>\n",
       "      <td>None</td>\n",
       "      <td>None</td>\n",
       "      <td>None</td>\n",
       "      <td>None</td>\n",
       "      <td>None</td>\n",
       "      <td>False</td>\n",
       "      <td>None</td>\n",
       "      <td>None</td>\n",
       "      <td>None</td>\n",
       "    </tr>\n",
       "    <tr>\n",
       "      <th>5434</th>\n",
       "      <td>hats</td>\n",
       "      <td>모자</td>\n",
       "      <td>버킷햇</td>\n",
       "      <td>블랙</td>\n",
       "      <td>None</td>\n",
       "      <td>무지</td>\n",
       "      <td>면</td>\n",
       "      <td>None</td>\n",
       "      <td>None</td>\n",
       "      <td>None</td>\n",
       "      <td>...</td>\n",
       "      <td>None</td>\n",
       "      <td>None</td>\n",
       "      <td>None</td>\n",
       "      <td>None</td>\n",
       "      <td>None</td>\n",
       "      <td>None</td>\n",
       "      <td>False</td>\n",
       "      <td>None</td>\n",
       "      <td>None</td>\n",
       "      <td>None</td>\n",
       "    </tr>\n",
       "    <tr>\n",
       "      <th>5435</th>\n",
       "      <td>clothing</td>\n",
       "      <td>패딩</td>\n",
       "      <td>패딩</td>\n",
       "      <td>그레이</td>\n",
       "      <td>퀼팅</td>\n",
       "      <td>무지</td>\n",
       "      <td>합성섬유</td>\n",
       "      <td>캐주얼</td>\n",
       "      <td>노멀</td>\n",
       "      <td>긴팔</td>\n",
       "      <td>...</td>\n",
       "      <td>노멀</td>\n",
       "      <td>None</td>\n",
       "      <td>None</td>\n",
       "      <td>None</td>\n",
       "      <td>None</td>\n",
       "      <td>None</td>\n",
       "      <td>False</td>\n",
       "      <td>None</td>\n",
       "      <td>None</td>\n",
       "      <td>None</td>\n",
       "    </tr>\n",
       "    <tr>\n",
       "      <th>5436</th>\n",
       "      <td>hats</td>\n",
       "      <td>모자</td>\n",
       "      <td>캡</td>\n",
       "      <td>블랙</td>\n",
       "      <td>자수</td>\n",
       "      <td>무지</td>\n",
       "      <td>면</td>\n",
       "      <td>None</td>\n",
       "      <td>None</td>\n",
       "      <td>None</td>\n",
       "      <td>...</td>\n",
       "      <td>None</td>\n",
       "      <td>None</td>\n",
       "      <td>None</td>\n",
       "      <td>None</td>\n",
       "      <td>None</td>\n",
       "      <td>None</td>\n",
       "      <td>False</td>\n",
       "      <td>None</td>\n",
       "      <td>None</td>\n",
       "      <td>None</td>\n",
       "    </tr>\n",
       "  </tbody>\n",
       "</table>\n",
       "<p>5437 rows × 21 columns</p>\n",
       "</div>"
      ],
      "text/plain": [
       "          type category item  color detail pattern texture  look length  \\\n",
       "0     clothing        탑  탱크탑    그레이   None      무지       면    히피     크롭   \n",
       "1     clothing      청바지  청바지     블루     포켓      무지      데님   캐주얼      롱   \n",
       "2     clothing    캐주얼상의  티셔츠  스카이블루   None      무지      니트   캐주얼     노멀   \n",
       "3     clothing      스커트  스커트    네이비    스트랩      무지    합성섬유   캐주얼      롱   \n",
       "4        shoes      운동화  슬립온     블랙   레이스업      무지      가죽  None   None   \n",
       "...        ...      ...  ...    ...    ...     ...     ...   ...    ...   \n",
       "5432     shoes      운동화  런닝화     블랙   레이스업      로고    스웨이드  None   None   \n",
       "5433  clothing       재킷  트럭커    베이지     포켓      무지       면   캐주얼     노멀   \n",
       "5434      hats       모자  버킷햇     블랙   None      무지       면  None   None   \n",
       "5435  clothing       패딩   패딩    그레이     퀼팅      무지    합성섬유   캐주얼     노멀   \n",
       "5436      hats       모자    캡     블랙     자수      무지       면  None   None   \n",
       "\n",
       "     sleeve_length  ...   fit  shape heel_height heel_shape toe_type  \\\n",
       "0              민소매  ...   타이트   None        None       None     None   \n",
       "1             None  ...    노멀  스트레이트        None       None     None   \n",
       "2               반팔  ...    노멀   None        None       None     None   \n",
       "3             None  ...  None    H라인        None       None     None   \n",
       "4             None  ...  None   None          플랫       None     라운드토   \n",
       "...            ...  ...   ...    ...         ...        ...      ...   \n",
       "5432          None  ...  None   None          플랫       None     라운드토   \n",
       "5433            긴팔  ...    노멀   None        None       None     None   \n",
       "5434          None  ...  None   None        None       None     None   \n",
       "5435            긴팔  ...    노멀   None        None       None     None   \n",
       "5436          None  ...  None   None        None       None     None   \n",
       "\n",
       "     sole_type  strap  size main_material sub_material  \n",
       "0         None  False  None          None         None  \n",
       "1         None  False  None          None         None  \n",
       "2         None  False  None          None         None  \n",
       "3         None  False  None          None         None  \n",
       "4          플랫폼  False  None          None         None  \n",
       "...        ...    ...   ...           ...          ...  \n",
       "5432       플랫폼  False  None          None         None  \n",
       "5433      None  False  None          None         None  \n",
       "5434      None  False  None          None         None  \n",
       "5435      None  False  None          None         None  \n",
       "5436      None  False  None          None         None  \n",
       "\n",
       "[5437 rows x 21 columns]"
      ]
     },
     "execution_count": 3,
     "metadata": {},
     "output_type": "execute_result"
    }
   ],
   "source": [
    "df = pd.DataFrame(tags).drop(['id','pix_id','x','y','created_at'], axis=1); df"
   ]
  },
  {
   "cell_type": "code",
   "execution_count": 80,
   "metadata": {},
   "outputs": [
    {
     "data": {
      "text/plain": [
       "array(['탑', '청바지', '캐주얼상의', '스커트', '운동화', '재킷', '잡화', '가방', '모자', '점퍼',\n",
       "       '팬츠', '블라우스', '부츠/워커', '베스트', '목걸이', '니트웨어', '로퍼', '셔츠', '코트',\n",
       "       '드레스', '샌들', '점프수트', '슬리퍼', '펌프스', '정장구두', '패딩', '팔찌/발찌', '반지',\n",
       "       '귀걸이/피어싱', '수영복', '지갑', '펜던트'], dtype=object)"
      ]
     },
     "execution_count": 80,
     "metadata": {},
     "output_type": "execute_result"
    }
   ],
   "source": [
    "df.category.unique()"
   ]
  },
  {
   "cell_type": "code",
   "execution_count": 22,
   "metadata": {},
   "outputs": [],
   "source": [
    "plt.rc('font', size=13)"
   ]
  },
  {
   "cell_type": "code",
   "execution_count": null,
   "metadata": {},
   "outputs": [],
   "source": []
  },
  {
   "cell_type": "code",
   "execution_count": 30,
   "metadata": {},
   "outputs": [
    {
     "data": {
      "image/png": "[encoded data removed]",
      "text/plain": [
       "<Figure size 576x288 with 1 Axes>"
      ]
     },
     "metadata": {
      "needs_background": "light"
     },
     "output_type": "display_data"
    }
   ],
   "source": [
    "df.groupby(['type']).count()['item'].sort_values().plot.barh(figsize=(8,4));"
   ]
  },
  {
   "cell_type": "code",
   "execution_count": 36,
   "metadata": {},
   "outputs": [
    {
     "data": {
      "image/png": "[encoded data removed]",
      "text/plain": [
       "<Figure size 576x432 with 1 Axes>"
      ]
     },
     "metadata": {
      "needs_background": "light"
     },
     "output_type": "display_data"
    }
   ],
   "source": [
    "df.groupby(['type','category']).count().loc['clothing', 'item'].sort_values().plot.barh(figsize=(8,6), title='clothing');"
   ]
  },
  {
   "cell_type": "code",
   "execution_count": 37,
   "metadata": {},
   "outputs": [
    {
     "data": {
      "image/png": "[encoded data removed]",
      "text/plain": [
       "<Figure size 576x288 with 1 Axes>"
      ]
     },
     "metadata": {
      "needs_background": "light"
     },
     "output_type": "display_data"
    }
   ],
   "source": [
    "df.groupby(['type','category']).count().loc['shoes', 'item'].sort_values().plot.barh(figsize=(8,4), title='shoes');"
   ]
  },
  {
   "cell_type": "code",
   "execution_count": 53,
   "metadata": {},
   "outputs": [
    {
     "data": {
      "image/png": "[encoded data removed]",
      "text/plain": [
       "<Figure size 576x288 with 1 Axes>"
      ]
     },
     "metadata": {
      "needs_background": "light"
     },
     "output_type": "display_data"
    }
   ],
   "source": [
    "df.groupby(['category','item']).count().loc['모자', 'color'].sort_values().plot.barh(figsize=(8,4), title='hats');"
   ]
  },
  {
   "cell_type": "code",
   "execution_count": 57,
   "metadata": {},
   "outputs": [
    {
     "data": {
      "image/png": "[encoded data removed]",
      "text/plain": [
       "<Figure size 576x432 with 1 Axes>"
      ]
     },
     "metadata": {
      "needs_background": "light"
     },
     "output_type": "display_data"
    }
   ],
   "source": [
    "df.groupby(['category','item']).count().loc['잡화', 'color'].sort_values().plot.barh(figsize=(8,6), title='accessories');"
   ]
  },
  {
   "cell_type": "code",
   "execution_count": 66,
   "metadata": {},
   "outputs": [
    {
     "data": {
      "image/png": "[encoded data removed]",
      "text/plain": [
       "<Figure size 576x360 with 1 Axes>"
      ]
     },
     "metadata": {
      "needs_background": "light"
     },
     "output_type": "display_data"
    }
   ],
   "source": [
    "df.groupby(['category','item']).count().loc['가방', 'color'].sort_values().plot.barh(figsize=(8,5), title='bags');"
   ]
  },
  {
   "cell_type": "code",
   "execution_count": null,
   "metadata": {},
   "outputs": [],
   "source": []
  },
  {
   "cell_type": "code",
   "execution_count": null,
   "metadata": {},
   "outputs": [],
   "source": []
  }
 ],
 "metadata": {
  "kernelspec": {
   "display_name": "Django Shell-Plus",
   "language": "python",
   "name": "django_extensions"
  },
  "language_info": {
   "codemirror_mode": {
    "name": "ipython",
    "version": 3
   },
   "file_extension": ".py",
   "mimetype": "text/x-python",
   "name": "python",
   "nbconvert_exporter": "python",
   "pygments_lexer": "ipython3",
   "version": "3.8.2"
  }
 },
 "nbformat": 4,
 "nbformat_minor": 4
}
