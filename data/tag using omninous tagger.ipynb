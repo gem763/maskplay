{
 "cells": [
  {
   "cell_type": "code",
   "execution_count": 1,
   "metadata": {},
   "outputs": [],
   "source": [
    "%load_ext autoreload\n",
    "%autoreload\n",
    "\n",
    "import io\n",
    "import os\n",
    "import sys\n",
    "import django\n",
    "import glob\n",
    "import json\n",
    "import re\n",
    "import requests\n",
    "import pandas as pd\n",
    "from IPython.core.debugger import set_trace\n",
    "from pathlib import Path\n",
    "from django.core.files.base import ContentFile\n",
    "from rest_framework import serializers\n",
    "from tqdm.notebook import tqdm\n",
    "from PIL import Image, ImageSequence\n",
    "\n",
    "parentdir = os.path.abspath(os.path.join(os.getcwd(), os.pardir))\n",
    "sys.path.append(parentdir)\n",
    "django.setup()\n",
    "\n",
    "import getch.models as m"
   ]
  },
  {
   "cell_type": "code",
   "execution_count": 2,
   "metadata": {},
   "outputs": [],
   "source": [
    "endpoint = 'https://api.omnious.com/tagger/v2.12/tags'\n",
    "\n",
    "headers = { \n",
    "    'x-api-key': 'z75BOQL2oFIepdufKGm8kqYtNnybCVHUZag3XPi6',\n",
    "    'accept-language': 'ko'\n",
    "}\n",
    "\n",
    "def js(p):\n",
    "    return {\n",
    "        \"image\": {\n",
    "            \"type\": \"url\",\n",
    "            \"content\": p.src.url\n",
    "        },\n",
    "        \"context\": {\n",
    "            \"id\": p.id,\n",
    "            \"detection\": [\n",
    "                \"TOP\",\n",
    "                \"BOTTOM\",\n",
    "                \"WHOLEBODY\",\n",
    "                \"SWIMWEAR\",\n",
    "                \"SHOES\",\n",
    "                \"BAG\",\n",
    "                \"HAT\",\n",
    "                \"JEWELRY\",\n",
    "                \"ACCESSORY\"\n",
    "            ]\n",
    "        }\n",
    "    }\n",
    "\n",
    "def get_value(tag, what):\n",
    "    try:\n",
    "        return tag[what]['name']\n",
    "    except:\n",
    "        try:\n",
    "            return tag[what][0]['name']\n",
    "        except:\n",
    "            return None\n",
    "        \n",
    "        \n",
    "def db_taggerize(pix):\n",
    "    for _obj in pix.taggerlog['data']['objects']:\n",
    "        for _tag in _obj['tags']:\n",
    "            _type = _obj['type'].lower()\n",
    "            _category = _tag['category']['name']\n",
    "            _item = _tag['item']['name']\n",
    "            _x = round(_tag['position']['x'], 3)\n",
    "            _y = round(_tag['position']['y'], 3)\n",
    "            \n",
    "            if m.Tag.objects.filter(pix=pix, type=_type, category=_category, item=_item, x=_x, y=_y).exists():\n",
    "                continue\n",
    "            \n",
    "            t = m.Tag(\n",
    "                pix=pix,\n",
    "                type=_type,\n",
    "                category=_category,\n",
    "                item=_item\n",
    "            )\n",
    "\n",
    "            t.x = _x\n",
    "            t.y = _y\n",
    "            t.color = get_value(_tag, 'colors')\n",
    "            t.detail = get_value(_tag, 'details')\n",
    "            t.pattern = get_value(_tag, 'prints')\n",
    "            t.texture = get_value(_tag, 'textures')\n",
    "            t.look = get_value(_tag, 'looks')\n",
    "            t.length = get_value(_tag, 'length')\n",
    "            t.sleeve_length = get_value(_tag, 'sleeveLength')\n",
    "            t.neckline = get_value(_tag, 'neckLine')\n",
    "            t.fit = get_value(_tag, 'fit')\n",
    "            t.shape = get_value(_tag, 'shape')\n",
    "\n",
    "            t.heel_height = get_value(_tag, 'heelHeight')\n",
    "            t.heel_shape = get_value(_tag, 'heelShape')\n",
    "            t.toe_type = get_value(_tag, 'toeType')\n",
    "            t.sole_type = get_value(_tag, 'soleType')\n",
    "\n",
    "            t.strap = get_value(_tag, 'strap') == '스트랩있음'\n",
    "            t.size = get_value(_tag, 'size')\n",
    "            t.main_material = get_value(_tag, 'mainMaterials')\n",
    "            t.sub_material = get_value(_tag, 'subMaterials')\n",
    "\n",
    "            t.save()"
   ]
  },
  {
   "cell_type": "code",
   "execution_count": 4,
   "metadata": {},
   "outputs": [
    {
     "data": {
      "application/vnd.jupyter.widget-view+json": {
       "model_id": "07b7270310f04b6ea6031f15214836ff",
       "version_major": 2,
       "version_minor": 0
      },
      "text/plain": [
       "  0%|          | 0/2798 [00:00<?, ?it/s]"
      ]
     },
     "metadata": {},
     "output_type": "display_data"
    }
   ],
   "source": [
    "for _pix in tqdm(m.Pix.objects.order_by('-id')[1500:]):\n",
    "    if (not _pix.tagger_called) or _pix.tagger_quota_limited:\n",
    "        res = requests.post(endpoint, json=js(_pix), headers=headers)\n",
    "        _pix.taggerlog = res.json()\n",
    "        _pix.save()\n",
    "        \n",
    "    if _pix.tagged:\n",
    "        db_taggerize(_pix)"
   ]
  },
  {
   "cell_type": "code",
   "execution_count": null,
   "metadata": {},
   "outputs": [],
   "source": []
  }
 ],
 "metadata": {
  "kernelspec": {
   "display_name": "Django Shell-Plus",
   "language": "python",
   "name": "django_extensions"
  },
  "language_info": {
   "codemirror_mode": {
    "name": "ipython",
    "version": 3
   },
   "file_extension": ".py",
   "mimetype": "text/x-python",
   "name": "python",
   "nbconvert_exporter": "python",
   "pygments_lexer": "ipython3",
   "version": "3.8.2"
  }
 },
 "nbformat": 4,
 "nbformat_minor": 4
}
