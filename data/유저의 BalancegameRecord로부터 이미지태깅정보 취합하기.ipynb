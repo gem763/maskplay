{
 "cells": [
  {
   "cell_type": "code",
   "execution_count": 1,
   "metadata": {},
   "outputs": [],
   "source": [
    "%load_ext autoreload\n",
    "%autoreload\n",
    "\n",
    "import io\n",
    "import os\n",
    "import sys\n",
    "import django\n",
    "import glob\n",
    "import json\n",
    "import re\n",
    "import requests\n",
    "from IPython.core.debugger import set_trace\n",
    "from pathlib import Path\n",
    "from django.core.files.base import ContentFile\n",
    "from rest_framework import serializers\n",
    "from tqdm.notebook import tqdm\n",
    "from google.cloud import vision\n",
    "from google.cloud import storage\n",
    "from PIL import Image, ImageSequence\n",
    "from gensim.models import Doc2Vec\n",
    "from IPython.core.debugger import set_trace\n",
    "import IPython\n",
    "import collections\n",
    "from googletrans import Translator\n",
    "from google.cloud import translate_v2 as translate\n",
    "\n",
    "parentdir = os.path.abspath(os.path.join(os.getcwd(), os.pardir))\n",
    "sys.path.append(parentdir)\n",
    "django.setup()\n",
    "\n",
    "import getch.models as m\n",
    "from django.db.models import F, Q, Sum, Count, Case, When, IntegerField, Value\n",
    "from django.apps import apps\n",
    "from django_currentuser.middleware import get_current_user\n",
    "from datetime import datetime, timedelta\n",
    "import time"
   ]
  },
  {
   "cell_type": "markdown",
   "metadata": {},
   "source": [
    "# 한글태그 필드 채우기"
   ]
  },
  {
   "cell_type": "code",
   "execution_count": 10,
   "metadata": {},
   "outputs": [
    {
     "data": {
      "application/vnd.jupyter.widget-view+json": {
       "model_id": "3fbd6a48bf0f42fb85c51e3e62c11dd6",
       "version_major": 2,
       "version_minor": 0
      },
      "text/plain": [
       "  0%|          | 0/4298 [00:00<?, ?it/s]"
      ]
     },
     "metadata": {},
     "output_type": "display_data"
    }
   ],
   "source": [
    "get_ko = lambda x: ' '.join(re.compile(r'[\\u3131-\\u3163\\uac00-\\ud7a3]+|[ㄱ-ㅣ]+').findall(x))\n",
    "\n",
    "for _pix in tqdm(m.Pix.objects.order_by('-id')[:]):\n",
    "    _tokens = _pix.tokens\n",
    "    _pix.tokens_ko = get_ko(_tokens)\n",
    "    _pix.save()"
   ]
  },
  {
   "cell_type": "markdown",
   "metadata": {},
   "source": [
    "# 선택한(pos) & 선택하지않은(neg) 토큰 쿼리하기"
   ]
  },
  {
   "cell_type": "code",
   "execution_count": 2,
   "metadata": {},
   "outputs": [],
   "source": [
    "# tokens = m.BalancegameRecord.objects.filter(who__user__email='sohee991110@gmail.com').select_related('pix_0', 'pix_1', 'pix_0__tokens_ko', 'pix_1__tokens_ko').annotate(\n",
    "tokens = m.BalancegameRecord.objects.filter(who__user__email='sohee991110@gmail.com').annotate(    \n",
    "    pos_tokens=Case(\n",
    "        When(chosen=0, then=F('pix_0__tokens_ko')),\n",
    "        When(chosen=1, then=F('pix_1__tokens_ko')),\n",
    "        default=Value(''),\n",
    "    ),\n",
    "    neg_tokens=Case(\n",
    "        When(chosen=0, then=F('pix_1__tokens_ko')),\n",
    "        When(chosen=1, then=F('pix_0__tokens_ko')),\n",
    "        default=Value(''),\n",
    "    ),\n",
    ")"
   ]
  },
  {
   "cell_type": "code",
   "execution_count": 3,
   "metadata": {
    "scrolled": true
   },
   "outputs": [],
   "source": [
    "pos_tokens = tokens.values_list('pos_tokens', flat=True)\n",
    "neg_tokens = tokens.values_list('neg_tokens', flat=True)"
   ]
  },
  {
   "cell_type": "code",
   "execution_count": 4,
   "metadata": {},
   "outputs": [],
   "source": [
    "pos_stat = collections.Counter(' '.join(pos_tokens).split(' ')); pos_stat\n",
    "neg_stat = collections.Counter(' '.join(neg_tokens).split(' ')); neg_stat;"
   ]
  },
  {
   "cell_type": "code",
   "execution_count": 5,
   "metadata": {},
   "outputs": [
    {
     "data": {
      "text/plain": [
       "[('자켓', 17),\n",
       " ('티셔츠', 14),\n",
       " ('휴양', 13),\n",
       " ('몸짓', 12),\n",
       " ('가방', 11),\n",
       " ('청', 11),\n",
       " ('야구모자', 10),\n",
       " ('반바지', 9),\n",
       " ('복부', 9),\n",
       " ('캡', 9)]"
      ]
     },
     "execution_count": 5,
     "metadata": {},
     "output_type": "execute_result"
    }
   ],
   "source": [
    "(pos_stat - neg_stat).most_common(10)"
   ]
  },
  {
   "cell_type": "code",
   "execution_count": 6,
   "metadata": {},
   "outputs": [
    {
     "data": {
      "text/plain": [
       "0.0006799697875976562"
      ]
     },
     "execution_count": 6,
     "metadata": {},
     "output_type": "execute_result"
    }
   ],
   "source": [
    "st = time.time()\n",
    "collections.Counter(' '.join(pos_tokens).split());\n",
    "time.time() - st"
   ]
  },
  {
   "cell_type": "code",
   "execution_count": 7,
   "metadata": {},
   "outputs": [
    {
     "data": {
      "text/plain": [
       "0.0006458759307861328"
      ]
     },
     "execution_count": 7,
     "metadata": {},
     "output_type": "execute_result"
    }
   ],
   "source": [
    "st = time.time()\n",
    "collections.Counter(' '.join(neg_tokens).split());\n",
    "time.time() - st"
   ]
  },
  {
   "cell_type": "code",
   "execution_count": null,
   "metadata": {},
   "outputs": [],
   "source": []
  },
  {
   "cell_type": "code",
   "execution_count": null,
   "metadata": {},
   "outputs": [],
   "source": []
  },
  {
   "cell_type": "code",
   "execution_count": null,
   "metadata": {},
   "outputs": [],
   "source": []
  },
  {
   "cell_type": "code",
   "execution_count": null,
   "metadata": {},
   "outputs": [],
   "source": []
  },
  {
   "cell_type": "code",
   "execution_count": null,
   "metadata": {},
   "outputs": [],
   "source": []
  }
 ],
 "metadata": {
  "kernelspec": {
   "display_name": "Python 3",
   "language": "python",
   "name": "python3"
  },
  "language_info": {
   "codemirror_mode": {
    "name": "ipython",
    "version": 3
   },
   "file_extension": ".py",
   "mimetype": "text/x-python",
   "name": "python",
   "nbconvert_exporter": "python",
   "pygments_lexer": "ipython3",
   "version": "3.8.5"
  }
 },
 "nbformat": 4,
 "nbformat_minor": 4
}
