{
 "cells": [
  {
   "cell_type": "code",
   "execution_count": 1,
   "metadata": {},
   "outputs": [],
   "source": [
    "%load_ext autoreload\n",
    "%autoreload\n",
    "\n",
    "import io\n",
    "import os\n",
    "import sys\n",
    "import django\n",
    "import glob\n",
    "import json\n",
    "import re\n",
    "import requests\n",
    "from IPython.core.debugger import set_trace\n",
    "from pathlib import Path\n",
    "from django.core.files.base import ContentFile\n",
    "from rest_framework import serializers\n",
    "from tqdm.notebook import tqdm\n",
    "from google.cloud import vision\n",
    "from google.cloud import storage\n",
    "from PIL import Image, ImageSequence\n",
    "from gensim.models import Doc2Vec\n",
    "from IPython.core.debugger import set_trace\n",
    "import IPython\n",
    "import collections\n",
    "from googletrans import Translator\n",
    "from google.cloud import translate_v2 as translate\n",
    "\n",
    "parentdir = os.path.abspath(os.path.join(os.getcwd(), os.pardir))\n",
    "sys.path.append(parentdir)\n",
    "django.setup()\n",
    "\n",
    "import getch.models as m\n",
    "from django.db.models import F, Q, Sum, Count, Case, When, IntegerField, Value\n",
    "from django.apps import apps\n",
    "from django_currentuser.middleware import get_current_user\n",
    "from datetime import datetime, timedelta"
   ]
  },
  {
   "cell_type": "code",
   "execution_count": 2,
   "metadata": {},
   "outputs": [],
   "source": [
    "pos_tokens = m.BalancegameRecord.objects.filter(who=660)[:].values_list('pix_0__tokens', flat=True); pos_tokens\n",
    "neg_tokens = m.BalancegameRecord.objects.filter(who=660)[:].values_list('pix_1__tokens', flat=True); neg_tokens;"
   ]
  },
  {
   "cell_type": "code",
   "execution_count": 3,
   "metadata": {},
   "outputs": [],
   "source": [
    "pos_stat = collections.Counter(' '.join(pos_tokens).split(' ')); pos_stat\n",
    "neg_stat = collections.Counter(' '.join(neg_tokens).split(' ')); neg_stat;"
   ]
  },
  {
   "cell_type": "code",
   "execution_count": 5,
   "metadata": {},
   "outputs": [
    {
     "data": {
      "text/plain": [
       "[('denim', 28),\n",
       " ('청', 28),\n",
       " ('격식있는옷차림', 28),\n",
       " ('fashion_design', 26),\n",
       " ('패션디자인', 26),\n",
       " ('neck', 23),\n",
       " ('목', 23),\n",
       " ('pocket', 23),\n",
       " ('포켓', 23),\n",
       " ('블랙', 23)]"
      ]
     },
     "execution_count": 5,
     "metadata": {},
     "output_type": "execute_result"
    }
   ],
   "source": [
    "(pos_stat - neg_stat).most_common(10)"
   ]
  },
  {
   "cell_type": "code",
   "execution_count": 37,
   "metadata": {},
   "outputs": [],
   "source": [
    "tokens = m.BalancegameRecord.objects.filter(who__user__email='magrittelim@gmail.com').annotate(\n",
    "    pos_tokens=Case(\n",
    "        When(chosen=0, then=F('pix_0__tokens')),\n",
    "        When(chosen=1, then=F('pix_1__tokens')),\n",
    "        default=Value(''),\n",
    "    ),\n",
    "    neg_tokens=Case(\n",
    "        When(chosen=0, then=F('pix_1__tokens')),\n",
    "        When(chosen=1, then=F('pix_0__tokens')),\n",
    "        default=Value(''),\n",
    "    ),\n",
    ")"
   ]
  },
  {
   "cell_type": "code",
   "execution_count": 38,
   "metadata": {
    "scrolled": true
   },
   "outputs": [],
   "source": [
    "pos_tokens = tokens.values_list('pos_tokens', flat=True)\n",
    "neg_tokens = tokens.values_list('neg_tokens', flat=True)"
   ]
  },
  {
   "cell_type": "code",
   "execution_count": 39,
   "metadata": {},
   "outputs": [],
   "source": [
    "pos_stat = collections.Counter(' '.join(pos_tokens).split(' ')); pos_stat\n",
    "neg_stat = collections.Counter(' '.join(neg_tokens).split(' ')); neg_stat;"
   ]
  },
  {
   "cell_type": "code",
   "execution_count": 41,
   "metadata": {},
   "outputs": [
    {
     "data": {
      "text/plain": [
       "[('티셔츠', 41),\n",
       " ('스니커즈', 25),\n",
       " ('t-shirt', 21),\n",
       " ('캡', 21),\n",
       " ('맨투맨', 21),\n",
       " ('cap', 19),\n",
       " ('운동화', 18),\n",
       " ('sportswear', 15),\n",
       " ('운동복', 15),\n",
       " ('event', 14),\n",
       " ('행사', 14),\n",
       " ('shoulder', 13),\n",
       " ('어깨', 13),\n",
       " ('fun', 13),\n",
       " ('장난', 13),\n",
       " ('thigh', 13),\n",
       " ('대퇴골', 13),\n",
       " ('선반', 12),\n",
       " ('후드', 11),\n",
       " ('human_leg', 11)]"
      ]
     },
     "execution_count": 41,
     "metadata": {},
     "output_type": "execute_result"
    }
   ],
   "source": [
    "(pos_stat - neg_stat).most_common(20)"
   ]
  },
  {
   "cell_type": "code",
   "execution_count": null,
   "metadata": {},
   "outputs": [],
   "source": []
  }
 ],
 "metadata": {
  "kernelspec": {
   "display_name": "Python 3",
   "language": "python",
   "name": "python3"
  },
  "language_info": {
   "codemirror_mode": {
    "name": "ipython",
    "version": 3
   },
   "file_extension": ".py",
   "mimetype": "text/x-python",
   "name": "python",
   "nbconvert_exporter": "python",
   "pygments_lexer": "ipython3",
   "version": "3.8.2"
  }
 },
 "nbformat": 4,
 "nbformat_minor": 4
}
